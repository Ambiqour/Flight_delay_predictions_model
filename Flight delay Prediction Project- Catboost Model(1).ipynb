{
 "cells": [
  {
   "cell_type": "markdown",
   "id": "7c94a840",
   "metadata": {},
   "source": [
    "# PROJECT  : Flight Delay Prediction"
   ]
  },
  {
   "cell_type": "markdown",
   "id": "3e33d743",
   "metadata": {},
   "source": [
    "## Compiled by: Mashele G.P"
   ]
  },
  {
   "cell_type": "markdown",
   "id": "bb528e3d",
   "metadata": {},
   "source": [
    "## Project overview/Description\n",
    "Flight delays not only irritate air passengers and disrupt their schedules but also cause :\n",
    "\n",
    "* a decrease in efficiency <br>\n",
    "* an increase in capital costs, reallocation of flight crews and aircraft <br>\n",
    "* an additional crew expenses <br>\n",
    "As a result, on an aggregate basis, an airline's record of flight delays may have a negative impact on passenger demand.\n",
    "\n",
    "This competition aims to predict the estimated duration of flight delays per flight\n",
    "\n",
    "This solution proposes to build a flight delay predictive model using Machine Learning techniques. The accurate prediction of flight delays will help all players in the air travel ecosystem to set up effective action plans to reduce the impact of the delays and avoid loss of time, capital and resources."
   ]
  },
  {
   "cell_type": "markdown",
   "id": "4107b994",
   "metadata": {},
   "source": [
    "## Problem statement\n"
   ]
  },
  {
   "cell_type": "markdown",
   "id": "6bee62e9",
   "metadata": {},
   "source": [
    "## Data Description\n",
    "* DATOP - Date of flight\n",
    "* FLTID - Flight number\n",
    "* DEPSTN - Departure point\n",
    "* ARRSTN - Arrival point\n",
    "* STD - Scheduled Time departure\n",
    "* STA - Scheduled Time arrival\n",
    "* STATUS - Flight status\n",
    "* ETD - Expected Time departure\n",
    "* ETA - Expected Time arrival\n",
    "* ATD - Actual Time of Departure\n",
    "* ATA - Actual Time of arrival\n",
    "* DELAY1 - Delay code 1\n",
    "* DUR1 - delay time 1\n",
    "* DELAY2 - Delay code 2\n",
    "* DUR2 - delay time 2\n",
    "* DELAY3 - Delay code 3\n",
    "* DUR3 - delay time 3\n",
    "* DELAY4 - Delay code 4\n",
    "* DUR4 - delay time 4\n",
    "* AC - Aircraft Code"
   ]
  },
  {
   "cell_type": "code",
   "execution_count": null,
   "id": "c6bf2da7",
   "metadata": {},
   "outputs": [],
   "source": [
    "!pip3 install catboost"
   ]
  },
  {
   "cell_type": "markdown",
   "id": "80708075",
   "metadata": {},
   "source": [
    "### Import the necessary libraries"
   ]
  },
  {
   "cell_type": "code",
   "execution_count": 2,
   "id": "8420ac92",
   "metadata": {},
   "outputs": [],
   "source": [
    "# Libraries to help with reading and manipulating data\n",
    "import pandas as pd\n",
    "import numpy as np\n",
    "# Libaries to assist with visualization of data\n",
    "import matplotlib.pyplot as plt\n",
    "import seaborn as sns\n",
    "# To tune model, get different metric scores, and split data\n",
    "from sklearn.metrics import (mean_squared_error,mean_absolute_error,r2_score)\n",
    "from sklearn import metrics\n",
    "from sklearn.model_selection import train_test_split, StratifiedKFold, cross_val_score\n",
    "# To be used for data scaling \n",
    "from sklearn.preprocessing import StandardScaler\n",
    "# To be used for categorical feature selection\n",
    "from sklearn.feature_selection import chi2\n",
    "# To oversample and undersample data\n",
    "from imblearn import under_sampling, over_sampling\n",
    "from imblearn.over_sampling import SMOTE\n",
    "from imblearn.under_sampling import RandomUnderSampler\n",
    "# To do hyperparameter tuning\n",
    "from sklearn.model_selection import GridSearchCV\n",
    "from sklearn.model_selection import RandomizedSearchCV\n",
    "# To define maximum number of columns to be displayed in a dataframe\n",
    "pd.set_option(\"display.max_columns\", None)\n",
    "pd.set_option(\"display.max_rows\", None)\n",
    "# To supress scientific notations for a dataframe\n",
    "pd.set_option(\"display.float_format\", lambda x: \"%.3f\" % x)\n",
    "# To help with model building\n",
    "from catboost import CatBoostRegressor\n",
    "# To suppress scientific notations\n",
    "pd.set_option(\"display.float_format\", lambda x: \"%.3f\" % x)\n",
    "# To suppress warnings\n",
    "import warnings\n",
    "warnings.filterwarnings(\"ignore\")"
   ]
  },
  {
   "cell_type": "code",
   "execution_count": 286,
   "id": "c868656d",
   "metadata": {},
   "outputs": [],
   "source": [
    "# Now lets read the  flight train and test  dataset\n",
    "train_data = pd.read_csv(\"Flight_Train_data.csv\")\n",
    "test_data = pd.read_csv(\"Flight_Test_data.csv\")"
   ]
  },
  {
   "cell_type": "code",
   "execution_count": 287,
   "id": "17217251",
   "metadata": {},
   "outputs": [
    {
     "data": {
      "text/html": [
       "<div>\n",
       "<style scoped>\n",
       "    .dataframe tbody tr th:only-of-type {\n",
       "        vertical-align: middle;\n",
       "    }\n",
       "\n",
       "    .dataframe tbody tr th {\n",
       "        vertical-align: top;\n",
       "    }\n",
       "\n",
       "    .dataframe thead th {\n",
       "        text-align: right;\n",
       "    }\n",
       "</style>\n",
       "<table border=\"1\" class=\"dataframe\">\n",
       "  <thead>\n",
       "    <tr style=\"text-align: right;\">\n",
       "      <th></th>\n",
       "      <th>ID</th>\n",
       "      <th>DATOP</th>\n",
       "      <th>FLTID</th>\n",
       "      <th>DEPSTN</th>\n",
       "      <th>ARRSTN</th>\n",
       "      <th>STD</th>\n",
       "      <th>STA</th>\n",
       "      <th>STATUS</th>\n",
       "      <th>AC</th>\n",
       "      <th>target</th>\n",
       "    </tr>\n",
       "  </thead>\n",
       "  <tbody>\n",
       "    <tr>\n",
       "      <th>0</th>\n",
       "      <td>train_id_0</td>\n",
       "      <td>2016-01-03</td>\n",
       "      <td>TU 0712</td>\n",
       "      <td>CMN</td>\n",
       "      <td>TUN</td>\n",
       "      <td>2016-01-03 10:30:00</td>\n",
       "      <td>2016-01-03 12.55.00</td>\n",
       "      <td>ATA</td>\n",
       "      <td>TU 32AIMN</td>\n",
       "      <td>260.000</td>\n",
       "    </tr>\n",
       "    <tr>\n",
       "      <th>1</th>\n",
       "      <td>train_id_1</td>\n",
       "      <td>2016-01-13</td>\n",
       "      <td>TU 0757</td>\n",
       "      <td>MXP</td>\n",
       "      <td>TUN</td>\n",
       "      <td>2016-01-13 15:05:00</td>\n",
       "      <td>2016-01-13 16.55.00</td>\n",
       "      <td>ATA</td>\n",
       "      <td>TU 31BIMO</td>\n",
       "      <td>20.000</td>\n",
       "    </tr>\n",
       "    <tr>\n",
       "      <th>2</th>\n",
       "      <td>train_id_2</td>\n",
       "      <td>2016-01-16</td>\n",
       "      <td>TU 0214</td>\n",
       "      <td>TUN</td>\n",
       "      <td>IST</td>\n",
       "      <td>2016-01-16 04:10:00</td>\n",
       "      <td>2016-01-16 06.45.00</td>\n",
       "      <td>ATA</td>\n",
       "      <td>TU 32AIMN</td>\n",
       "      <td>0.000</td>\n",
       "    </tr>\n",
       "    <tr>\n",
       "      <th>3</th>\n",
       "      <td>train_id_3</td>\n",
       "      <td>2016-01-17</td>\n",
       "      <td>TU 0480</td>\n",
       "      <td>DJE</td>\n",
       "      <td>NTE</td>\n",
       "      <td>2016-01-17 14:10:00</td>\n",
       "      <td>2016-01-17 17.00.00</td>\n",
       "      <td>ATA</td>\n",
       "      <td>TU 736IOK</td>\n",
       "      <td>0.000</td>\n",
       "    </tr>\n",
       "    <tr>\n",
       "      <th>4</th>\n",
       "      <td>train_id_4</td>\n",
       "      <td>2016-01-17</td>\n",
       "      <td>TU 0338</td>\n",
       "      <td>TUN</td>\n",
       "      <td>ALG</td>\n",
       "      <td>2016-01-17 14:30:00</td>\n",
       "      <td>2016-01-17 15.50.00</td>\n",
       "      <td>ATA</td>\n",
       "      <td>TU 320IMU</td>\n",
       "      <td>22.000</td>\n",
       "    </tr>\n",
       "  </tbody>\n",
       "</table>\n",
       "</div>"
      ],
      "text/plain": [
       "           ID       DATOP     FLTID DEPSTN ARRSTN                  STD  \\\n",
       "0  train_id_0  2016-01-03  TU 0712     CMN    TUN  2016-01-03 10:30:00   \n",
       "1  train_id_1  2016-01-13  TU 0757     MXP    TUN  2016-01-13 15:05:00   \n",
       "2  train_id_2  2016-01-16  TU 0214     TUN    IST  2016-01-16 04:10:00   \n",
       "3  train_id_3  2016-01-17  TU 0480     DJE    NTE  2016-01-17 14:10:00   \n",
       "4  train_id_4  2016-01-17  TU 0338     TUN    ALG  2016-01-17 14:30:00   \n",
       "\n",
       "                   STA STATUS         AC  target  \n",
       "0  2016-01-03 12.55.00    ATA  TU 32AIMN 260.000  \n",
       "1  2016-01-13 16.55.00    ATA  TU 31BIMO  20.000  \n",
       "2  2016-01-16 06.45.00    ATA  TU 32AIMN   0.000  \n",
       "3  2016-01-17 17.00.00    ATA  TU 736IOK   0.000  \n",
       "4  2016-01-17 15.50.00    ATA  TU 320IMU  22.000  "
      ]
     },
     "execution_count": 287,
     "metadata": {},
     "output_type": "execute_result"
    }
   ],
   "source": [
    "# Print the first five rows of the  flight train dataset\n",
    "train_data.head()  "
   ]
  },
  {
   "cell_type": "code",
   "execution_count": 288,
   "id": "f1915d50",
   "metadata": {
    "scrolled": true
   },
   "outputs": [
    {
     "data": {
      "text/html": [
       "<div>\n",
       "<style scoped>\n",
       "    .dataframe tbody tr th:only-of-type {\n",
       "        vertical-align: middle;\n",
       "    }\n",
       "\n",
       "    .dataframe tbody tr th {\n",
       "        vertical-align: top;\n",
       "    }\n",
       "\n",
       "    .dataframe thead th {\n",
       "        text-align: right;\n",
       "    }\n",
       "</style>\n",
       "<table border=\"1\" class=\"dataframe\">\n",
       "  <thead>\n",
       "    <tr style=\"text-align: right;\">\n",
       "      <th></th>\n",
       "      <th>ID</th>\n",
       "      <th>DATOP</th>\n",
       "      <th>FLTID</th>\n",
       "      <th>DEPSTN</th>\n",
       "      <th>ARRSTN</th>\n",
       "      <th>STD</th>\n",
       "      <th>STA</th>\n",
       "      <th>STATUS</th>\n",
       "      <th>AC</th>\n",
       "      <th>target</th>\n",
       "    </tr>\n",
       "  </thead>\n",
       "  <tbody>\n",
       "    <tr>\n",
       "      <th>107828</th>\n",
       "      <td>train_id_107828</td>\n",
       "      <td>2018-07-05</td>\n",
       "      <td>WKL 0000</td>\n",
       "      <td>TUN</td>\n",
       "      <td>TUN</td>\n",
       "      <td>2018-07-05 23:00:00</td>\n",
       "      <td>2018-07-06 02.00.00</td>\n",
       "      <td>SCH</td>\n",
       "      <td>TU 32AIML</td>\n",
       "      <td>0.000</td>\n",
       "    </tr>\n",
       "    <tr>\n",
       "      <th>107829</th>\n",
       "      <td>train_id_107829</td>\n",
       "      <td>2018-01-13</td>\n",
       "      <td>UG 0003</td>\n",
       "      <td>DJE</td>\n",
       "      <td>TUN</td>\n",
       "      <td>2018-01-13 08:00:00</td>\n",
       "      <td>2018-01-13 09.00.00</td>\n",
       "      <td>SCH</td>\n",
       "      <td>UG AT7AT7</td>\n",
       "      <td>0.000</td>\n",
       "    </tr>\n",
       "    <tr>\n",
       "      <th>107830</th>\n",
       "      <td>train_id_107830</td>\n",
       "      <td>2018-11-07</td>\n",
       "      <td>SGT 0000</td>\n",
       "      <td>TUN</td>\n",
       "      <td>TUN</td>\n",
       "      <td>2018-11-07 05:00:00</td>\n",
       "      <td>2018-11-07 12.50.00</td>\n",
       "      <td>SCH</td>\n",
       "      <td>TU 736IOK</td>\n",
       "      <td>0.000</td>\n",
       "    </tr>\n",
       "    <tr>\n",
       "      <th>107831</th>\n",
       "      <td>train_id_107831</td>\n",
       "      <td>2018-01-23</td>\n",
       "      <td>UG 0010</td>\n",
       "      <td>TUN</td>\n",
       "      <td>DJE</td>\n",
       "      <td>2018-01-23 18:00:00</td>\n",
       "      <td>2018-01-23 18.45.00</td>\n",
       "      <td>ATA</td>\n",
       "      <td>TU CR9ISA</td>\n",
       "      <td>0.000</td>\n",
       "    </tr>\n",
       "    <tr>\n",
       "      <th>107832</th>\n",
       "      <td>train_id_107832</td>\n",
       "      <td>2018-11-13</td>\n",
       "      <td>UG 0002</td>\n",
       "      <td>TUN</td>\n",
       "      <td>DJE</td>\n",
       "      <td>2018-11-13 06:15:00</td>\n",
       "      <td>2018-11-13 07.05.00</td>\n",
       "      <td>SCH</td>\n",
       "      <td>TU CR9ISA</td>\n",
       "      <td>0.000</td>\n",
       "    </tr>\n",
       "  </tbody>\n",
       "</table>\n",
       "</div>"
      ],
      "text/plain": [
       "                     ID       DATOP      FLTID DEPSTN ARRSTN  \\\n",
       "107828  train_id_107828  2018-07-05  WKL 0000     TUN    TUN   \n",
       "107829  train_id_107829  2018-01-13   UG 0003     DJE    TUN   \n",
       "107830  train_id_107830  2018-11-07  SGT 0000     TUN    TUN   \n",
       "107831  train_id_107831  2018-01-23   UG 0010     TUN    DJE   \n",
       "107832  train_id_107832  2018-11-13   UG 0002     TUN    DJE   \n",
       "\n",
       "                        STD                  STA STATUS         AC  target  \n",
       "107828  2018-07-05 23:00:00  2018-07-06 02.00.00    SCH  TU 32AIML   0.000  \n",
       "107829  2018-01-13 08:00:00  2018-01-13 09.00.00    SCH  UG AT7AT7   0.000  \n",
       "107830  2018-11-07 05:00:00  2018-11-07 12.50.00    SCH  TU 736IOK   0.000  \n",
       "107831  2018-01-23 18:00:00  2018-01-23 18.45.00    ATA  TU CR9ISA   0.000  \n",
       "107832  2018-11-13 06:15:00  2018-11-13 07.05.00    SCH  TU CR9ISA   0.000  "
      ]
     },
     "execution_count": 288,
     "metadata": {},
     "output_type": "execute_result"
    }
   ],
   "source": [
    "# Print the last five rows of the  flight training dataset\n",
    "train_data.tail()"
   ]
  },
  {
   "cell_type": "code",
   "execution_count": 289,
   "id": "ec036952",
   "metadata": {},
   "outputs": [
    {
     "data": {
      "text/plain": [
       "(107833, 10)"
      ]
     },
     "execution_count": 289,
     "metadata": {},
     "output_type": "execute_result"
    }
   ],
   "source": [
    "## Code to print the dimension of the  flight training dataset\n",
    "train_data.shape"
   ]
  },
  {
   "cell_type": "code",
   "execution_count": 290,
   "id": "fbe14ccb",
   "metadata": {},
   "outputs": [
    {
     "name": "stdout",
     "output_type": "stream",
     "text": [
      " The training dataset consist of 107833 rows and 10 columns\n"
     ]
    }
   ],
   "source": [
    "print(f\" The training dataset consist of {train_data.shape[0]} rows and {train_data.shape[1]} columns\")"
   ]
  },
  {
   "cell_type": "code",
   "execution_count": 291,
   "id": "49e82c41",
   "metadata": {},
   "outputs": [
    {
     "name": "stdout",
     "output_type": "stream",
     "text": [
      "<class 'pandas.core.frame.DataFrame'>\n",
      "RangeIndex: 107833 entries, 0 to 107832\n",
      "Data columns (total 10 columns):\n",
      " #   Column  Non-Null Count   Dtype  \n",
      "---  ------  --------------   -----  \n",
      " 0   ID      107833 non-null  object \n",
      " 1   DATOP   107833 non-null  object \n",
      " 2   FLTID   107833 non-null  object \n",
      " 3   DEPSTN  107833 non-null  object \n",
      " 4   ARRSTN  107833 non-null  object \n",
      " 5   STD     107833 non-null  object \n",
      " 6   STA     107833 non-null  object \n",
      " 7   STATUS  107833 non-null  object \n",
      " 8   AC      107833 non-null  object \n",
      " 9   target  107833 non-null  float64\n",
      "dtypes: float64(1), object(9)\n",
      "memory usage: 8.2+ MB\n"
     ]
    }
   ],
   "source": [
    "## Code to print the data types of the flight training dataset\n",
    "train_data.info()"
   ]
  },
  {
   "cell_type": "markdown",
   "id": "8cb6dd03",
   "metadata": {},
   "source": [
    "### Observation\n",
    "\n",
    "* The flight training dataset consists of 107833 rows and 10 columns. <br>\n",
    "* Nine(9) of the columns are object data types and One(1) Float data type. <br>\n",
    "* The dataset has 8.2 MB(Megabytes) as the memory Usage. \n"
   ]
  },
  {
   "cell_type": "code",
   "execution_count": 292,
   "id": "3bb1e416",
   "metadata": {},
   "outputs": [],
   "source": [
    "## Make a copy from the original  flight training dataset\n",
    "data = train_data.copy()"
   ]
  },
  {
   "cell_type": "code",
   "execution_count": 293,
   "id": "161d0d15",
   "metadata": {},
   "outputs": [
    {
     "data": {
      "text/html": [
       "<div>\n",
       "<style scoped>\n",
       "    .dataframe tbody tr th:only-of-type {\n",
       "        vertical-align: middle;\n",
       "    }\n",
       "\n",
       "    .dataframe tbody tr th {\n",
       "        vertical-align: top;\n",
       "    }\n",
       "\n",
       "    .dataframe thead th {\n",
       "        text-align: right;\n",
       "    }\n",
       "</style>\n",
       "<table border=\"1\" class=\"dataframe\">\n",
       "  <thead>\n",
       "    <tr style=\"text-align: right;\">\n",
       "      <th></th>\n",
       "      <th>ID</th>\n",
       "      <th>DATOP</th>\n",
       "      <th>FLTID</th>\n",
       "      <th>DEPSTN</th>\n",
       "      <th>ARRSTN</th>\n",
       "      <th>STD</th>\n",
       "      <th>STA</th>\n",
       "      <th>STATUS</th>\n",
       "      <th>AC</th>\n",
       "      <th>target</th>\n",
       "    </tr>\n",
       "  </thead>\n",
       "  <tbody>\n",
       "    <tr>\n",
       "      <th>0</th>\n",
       "      <td>train_id_0</td>\n",
       "      <td>2016-01-03</td>\n",
       "      <td>TU 0712</td>\n",
       "      <td>CMN</td>\n",
       "      <td>TUN</td>\n",
       "      <td>2016-01-03 10:30:00</td>\n",
       "      <td>2016-01-03 12.55.00</td>\n",
       "      <td>ATA</td>\n",
       "      <td>TU 32AIMN</td>\n",
       "      <td>260.000</td>\n",
       "    </tr>\n",
       "    <tr>\n",
       "      <th>1</th>\n",
       "      <td>train_id_1</td>\n",
       "      <td>2016-01-13</td>\n",
       "      <td>TU 0757</td>\n",
       "      <td>MXP</td>\n",
       "      <td>TUN</td>\n",
       "      <td>2016-01-13 15:05:00</td>\n",
       "      <td>2016-01-13 16.55.00</td>\n",
       "      <td>ATA</td>\n",
       "      <td>TU 31BIMO</td>\n",
       "      <td>20.000</td>\n",
       "    </tr>\n",
       "    <tr>\n",
       "      <th>2</th>\n",
       "      <td>train_id_2</td>\n",
       "      <td>2016-01-16</td>\n",
       "      <td>TU 0214</td>\n",
       "      <td>TUN</td>\n",
       "      <td>IST</td>\n",
       "      <td>2016-01-16 04:10:00</td>\n",
       "      <td>2016-01-16 06.45.00</td>\n",
       "      <td>ATA</td>\n",
       "      <td>TU 32AIMN</td>\n",
       "      <td>0.000</td>\n",
       "    </tr>\n",
       "    <tr>\n",
       "      <th>3</th>\n",
       "      <td>train_id_3</td>\n",
       "      <td>2016-01-17</td>\n",
       "      <td>TU 0480</td>\n",
       "      <td>DJE</td>\n",
       "      <td>NTE</td>\n",
       "      <td>2016-01-17 14:10:00</td>\n",
       "      <td>2016-01-17 17.00.00</td>\n",
       "      <td>ATA</td>\n",
       "      <td>TU 736IOK</td>\n",
       "      <td>0.000</td>\n",
       "    </tr>\n",
       "    <tr>\n",
       "      <th>4</th>\n",
       "      <td>train_id_4</td>\n",
       "      <td>2016-01-17</td>\n",
       "      <td>TU 0338</td>\n",
       "      <td>TUN</td>\n",
       "      <td>ALG</td>\n",
       "      <td>2016-01-17 14:30:00</td>\n",
       "      <td>2016-01-17 15.50.00</td>\n",
       "      <td>ATA</td>\n",
       "      <td>TU 320IMU</td>\n",
       "      <td>22.000</td>\n",
       "    </tr>\n",
       "  </tbody>\n",
       "</table>\n",
       "</div>"
      ],
      "text/plain": [
       "           ID       DATOP     FLTID DEPSTN ARRSTN                  STD  \\\n",
       "0  train_id_0  2016-01-03  TU 0712     CMN    TUN  2016-01-03 10:30:00   \n",
       "1  train_id_1  2016-01-13  TU 0757     MXP    TUN  2016-01-13 15:05:00   \n",
       "2  train_id_2  2016-01-16  TU 0214     TUN    IST  2016-01-16 04:10:00   \n",
       "3  train_id_3  2016-01-17  TU 0480     DJE    NTE  2016-01-17 14:10:00   \n",
       "4  train_id_4  2016-01-17  TU 0338     TUN    ALG  2016-01-17 14:30:00   \n",
       "\n",
       "                   STA STATUS         AC  target  \n",
       "0  2016-01-03 12.55.00    ATA  TU 32AIMN 260.000  \n",
       "1  2016-01-13 16.55.00    ATA  TU 31BIMO  20.000  \n",
       "2  2016-01-16 06.45.00    ATA  TU 32AIMN   0.000  \n",
       "3  2016-01-17 17.00.00    ATA  TU 736IOK   0.000  \n",
       "4  2016-01-17 15.50.00    ATA  TU 320IMU  22.000  "
      ]
     },
     "execution_count": 293,
     "metadata": {},
     "output_type": "execute_result"
    }
   ],
   "source": [
    "data.head()"
   ]
  },
  {
   "cell_type": "code",
   "execution_count": 294,
   "id": "ac501bd9",
   "metadata": {},
   "outputs": [],
   "source": [
    "### Now replace the STA column dot \".\" with a  \":\" \n",
    "#data[\"STA\"] = data[\"STA\"].astype(str).str.replace(\".\",\":\")"
   ]
  },
  {
   "cell_type": "code",
   "execution_count": 295,
   "id": "172d3183",
   "metadata": {},
   "outputs": [
    {
     "data": {
      "text/html": [
       "<div>\n",
       "<style scoped>\n",
       "    .dataframe tbody tr th:only-of-type {\n",
       "        vertical-align: middle;\n",
       "    }\n",
       "\n",
       "    .dataframe tbody tr th {\n",
       "        vertical-align: top;\n",
       "    }\n",
       "\n",
       "    .dataframe thead th {\n",
       "        text-align: right;\n",
       "    }\n",
       "</style>\n",
       "<table border=\"1\" class=\"dataframe\">\n",
       "  <thead>\n",
       "    <tr style=\"text-align: right;\">\n",
       "      <th></th>\n",
       "      <th>ID</th>\n",
       "      <th>DATOP</th>\n",
       "      <th>FLTID</th>\n",
       "      <th>DEPSTN</th>\n",
       "      <th>ARRSTN</th>\n",
       "      <th>STD</th>\n",
       "      <th>STA</th>\n",
       "      <th>STATUS</th>\n",
       "      <th>AC</th>\n",
       "      <th>target</th>\n",
       "    </tr>\n",
       "  </thead>\n",
       "  <tbody>\n",
       "    <tr>\n",
       "      <th>0</th>\n",
       "      <td>train_id_0</td>\n",
       "      <td>2016-01-03</td>\n",
       "      <td>TU 0712</td>\n",
       "      <td>CMN</td>\n",
       "      <td>TUN</td>\n",
       "      <td>2016-01-03 10:30:00</td>\n",
       "      <td>2016-01-03 12.55.00</td>\n",
       "      <td>ATA</td>\n",
       "      <td>TU 32AIMN</td>\n",
       "      <td>260.000</td>\n",
       "    </tr>\n",
       "    <tr>\n",
       "      <th>1</th>\n",
       "      <td>train_id_1</td>\n",
       "      <td>2016-01-13</td>\n",
       "      <td>TU 0757</td>\n",
       "      <td>MXP</td>\n",
       "      <td>TUN</td>\n",
       "      <td>2016-01-13 15:05:00</td>\n",
       "      <td>2016-01-13 16.55.00</td>\n",
       "      <td>ATA</td>\n",
       "      <td>TU 31BIMO</td>\n",
       "      <td>20.000</td>\n",
       "    </tr>\n",
       "    <tr>\n",
       "      <th>2</th>\n",
       "      <td>train_id_2</td>\n",
       "      <td>2016-01-16</td>\n",
       "      <td>TU 0214</td>\n",
       "      <td>TUN</td>\n",
       "      <td>IST</td>\n",
       "      <td>2016-01-16 04:10:00</td>\n",
       "      <td>2016-01-16 06.45.00</td>\n",
       "      <td>ATA</td>\n",
       "      <td>TU 32AIMN</td>\n",
       "      <td>0.000</td>\n",
       "    </tr>\n",
       "    <tr>\n",
       "      <th>3</th>\n",
       "      <td>train_id_3</td>\n",
       "      <td>2016-01-17</td>\n",
       "      <td>TU 0480</td>\n",
       "      <td>DJE</td>\n",
       "      <td>NTE</td>\n",
       "      <td>2016-01-17 14:10:00</td>\n",
       "      <td>2016-01-17 17.00.00</td>\n",
       "      <td>ATA</td>\n",
       "      <td>TU 736IOK</td>\n",
       "      <td>0.000</td>\n",
       "    </tr>\n",
       "    <tr>\n",
       "      <th>4</th>\n",
       "      <td>train_id_4</td>\n",
       "      <td>2016-01-17</td>\n",
       "      <td>TU 0338</td>\n",
       "      <td>TUN</td>\n",
       "      <td>ALG</td>\n",
       "      <td>2016-01-17 14:30:00</td>\n",
       "      <td>2016-01-17 15.50.00</td>\n",
       "      <td>ATA</td>\n",
       "      <td>TU 320IMU</td>\n",
       "      <td>22.000</td>\n",
       "    </tr>\n",
       "  </tbody>\n",
       "</table>\n",
       "</div>"
      ],
      "text/plain": [
       "           ID       DATOP     FLTID DEPSTN ARRSTN                  STD  \\\n",
       "0  train_id_0  2016-01-03  TU 0712     CMN    TUN  2016-01-03 10:30:00   \n",
       "1  train_id_1  2016-01-13  TU 0757     MXP    TUN  2016-01-13 15:05:00   \n",
       "2  train_id_2  2016-01-16  TU 0214     TUN    IST  2016-01-16 04:10:00   \n",
       "3  train_id_3  2016-01-17  TU 0480     DJE    NTE  2016-01-17 14:10:00   \n",
       "4  train_id_4  2016-01-17  TU 0338     TUN    ALG  2016-01-17 14:30:00   \n",
       "\n",
       "                   STA STATUS         AC  target  \n",
       "0  2016-01-03 12.55.00    ATA  TU 32AIMN 260.000  \n",
       "1  2016-01-13 16.55.00    ATA  TU 31BIMO  20.000  \n",
       "2  2016-01-16 06.45.00    ATA  TU 32AIMN   0.000  \n",
       "3  2016-01-17 17.00.00    ATA  TU 736IOK   0.000  \n",
       "4  2016-01-17 15.50.00    ATA  TU 320IMU  22.000  "
      ]
     },
     "execution_count": 295,
     "metadata": {},
     "output_type": "execute_result"
    }
   ],
   "source": [
    "data.head()"
   ]
  },
  {
   "cell_type": "code",
   "execution_count": 296,
   "id": "8b4b4003",
   "metadata": {},
   "outputs": [],
   "source": [
    "#data =data.drop('NFPD',axis=1)"
   ]
  },
  {
   "cell_type": "code",
   "execution_count": 297,
   "id": "2e4b4147",
   "metadata": {},
   "outputs": [],
   "source": [
    "### Select the columns to changed to datetime format\n",
    "#date_col=['STD', 'STA']"
   ]
  },
  {
   "cell_type": "code",
   "execution_count": 298,
   "id": "c68b2e27",
   "metadata": {},
   "outputs": [],
   "source": [
    "### Convert  date  object format to datetime format\n",
    "#for item in date_col:\n",
    "     # data[item] = pd.to_datetime(data[item])\n",
    "        "
   ]
  },
  {
   "cell_type": "code",
   "execution_count": 299,
   "id": "df830a0a",
   "metadata": {},
   "outputs": [
    {
     "name": "stdout",
     "output_type": "stream",
     "text": [
      "<class 'pandas.core.frame.DataFrame'>\n",
      "RangeIndex: 107833 entries, 0 to 107832\n",
      "Data columns (total 10 columns):\n",
      " #   Column  Non-Null Count   Dtype  \n",
      "---  ------  --------------   -----  \n",
      " 0   ID      107833 non-null  object \n",
      " 1   DATOP   107833 non-null  object \n",
      " 2   FLTID   107833 non-null  object \n",
      " 3   DEPSTN  107833 non-null  object \n",
      " 4   ARRSTN  107833 non-null  object \n",
      " 5   STD     107833 non-null  object \n",
      " 6   STA     107833 non-null  object \n",
      " 7   STATUS  107833 non-null  object \n",
      " 8   AC      107833 non-null  object \n",
      " 9   target  107833 non-null  float64\n",
      "dtypes: float64(1), object(9)\n",
      "memory usage: 8.2+ MB\n"
     ]
    }
   ],
   "source": [
    "data.info()"
   ]
  },
  {
   "cell_type": "code",
   "execution_count": 300,
   "id": "3ba67abc",
   "metadata": {},
   "outputs": [],
   "source": [
    "### Drop the ID column in the training dataset\n",
    "data = data.drop(columns='ID',axis=1)"
   ]
  },
  {
   "cell_type": "code",
   "execution_count": 301,
   "id": "351a3c6b",
   "metadata": {},
   "outputs": [
    {
     "data": {
      "text/html": [
       "<div>\n",
       "<style scoped>\n",
       "    .dataframe tbody tr th:only-of-type {\n",
       "        vertical-align: middle;\n",
       "    }\n",
       "\n",
       "    .dataframe tbody tr th {\n",
       "        vertical-align: top;\n",
       "    }\n",
       "\n",
       "    .dataframe thead th {\n",
       "        text-align: right;\n",
       "    }\n",
       "</style>\n",
       "<table border=\"1\" class=\"dataframe\">\n",
       "  <thead>\n",
       "    <tr style=\"text-align: right;\">\n",
       "      <th></th>\n",
       "      <th>DATOP</th>\n",
       "      <th>FLTID</th>\n",
       "      <th>DEPSTN</th>\n",
       "      <th>ARRSTN</th>\n",
       "      <th>STD</th>\n",
       "      <th>STA</th>\n",
       "      <th>STATUS</th>\n",
       "      <th>AC</th>\n",
       "      <th>target</th>\n",
       "    </tr>\n",
       "  </thead>\n",
       "  <tbody>\n",
       "    <tr>\n",
       "      <th>0</th>\n",
       "      <td>2016-01-03</td>\n",
       "      <td>TU 0712</td>\n",
       "      <td>CMN</td>\n",
       "      <td>TUN</td>\n",
       "      <td>2016-01-03 10:30:00</td>\n",
       "      <td>2016-01-03 12.55.00</td>\n",
       "      <td>ATA</td>\n",
       "      <td>TU 32AIMN</td>\n",
       "      <td>260.000</td>\n",
       "    </tr>\n",
       "    <tr>\n",
       "      <th>1</th>\n",
       "      <td>2016-01-13</td>\n",
       "      <td>TU 0757</td>\n",
       "      <td>MXP</td>\n",
       "      <td>TUN</td>\n",
       "      <td>2016-01-13 15:05:00</td>\n",
       "      <td>2016-01-13 16.55.00</td>\n",
       "      <td>ATA</td>\n",
       "      <td>TU 31BIMO</td>\n",
       "      <td>20.000</td>\n",
       "    </tr>\n",
       "    <tr>\n",
       "      <th>2</th>\n",
       "      <td>2016-01-16</td>\n",
       "      <td>TU 0214</td>\n",
       "      <td>TUN</td>\n",
       "      <td>IST</td>\n",
       "      <td>2016-01-16 04:10:00</td>\n",
       "      <td>2016-01-16 06.45.00</td>\n",
       "      <td>ATA</td>\n",
       "      <td>TU 32AIMN</td>\n",
       "      <td>0.000</td>\n",
       "    </tr>\n",
       "    <tr>\n",
       "      <th>3</th>\n",
       "      <td>2016-01-17</td>\n",
       "      <td>TU 0480</td>\n",
       "      <td>DJE</td>\n",
       "      <td>NTE</td>\n",
       "      <td>2016-01-17 14:10:00</td>\n",
       "      <td>2016-01-17 17.00.00</td>\n",
       "      <td>ATA</td>\n",
       "      <td>TU 736IOK</td>\n",
       "      <td>0.000</td>\n",
       "    </tr>\n",
       "    <tr>\n",
       "      <th>4</th>\n",
       "      <td>2016-01-17</td>\n",
       "      <td>TU 0338</td>\n",
       "      <td>TUN</td>\n",
       "      <td>ALG</td>\n",
       "      <td>2016-01-17 14:30:00</td>\n",
       "      <td>2016-01-17 15.50.00</td>\n",
       "      <td>ATA</td>\n",
       "      <td>TU 320IMU</td>\n",
       "      <td>22.000</td>\n",
       "    </tr>\n",
       "  </tbody>\n",
       "</table>\n",
       "</div>"
      ],
      "text/plain": [
       "        DATOP     FLTID DEPSTN ARRSTN                  STD  \\\n",
       "0  2016-01-03  TU 0712     CMN    TUN  2016-01-03 10:30:00   \n",
       "1  2016-01-13  TU 0757     MXP    TUN  2016-01-13 15:05:00   \n",
       "2  2016-01-16  TU 0214     TUN    IST  2016-01-16 04:10:00   \n",
       "3  2016-01-17  TU 0480     DJE    NTE  2016-01-17 14:10:00   \n",
       "4  2016-01-17  TU 0338     TUN    ALG  2016-01-17 14:30:00   \n",
       "\n",
       "                   STA STATUS         AC  target  \n",
       "0  2016-01-03 12.55.00    ATA  TU 32AIMN 260.000  \n",
       "1  2016-01-13 16.55.00    ATA  TU 31BIMO  20.000  \n",
       "2  2016-01-16 06.45.00    ATA  TU 32AIMN   0.000  \n",
       "3  2016-01-17 17.00.00    ATA  TU 736IOK   0.000  \n",
       "4  2016-01-17 15.50.00    ATA  TU 320IMU  22.000  "
      ]
     },
     "execution_count": 301,
     "metadata": {},
     "output_type": "execute_result"
    }
   ],
   "source": [
    "data.head()"
   ]
  },
  {
   "cell_type": "code",
   "execution_count": 302,
   "id": "45d2be2e",
   "metadata": {},
   "outputs": [],
   "source": [
    "### Code to convert the STA datetime into minutes\n",
    "#data['STA'] =(data[\"STA\"].dt.hour *60) + (data[\"STA\"].dt.minute)+ ((data[\"STA\"].dt.second)/60)"
   ]
  },
  {
   "cell_type": "code",
   "execution_count": 303,
   "id": "bbb18fc9",
   "metadata": {},
   "outputs": [],
   "source": [
    "#data['STD'] =(data[\"STD\"].dt.hour *60) + (data[\"STD\"].dt.minute)+ ((data[\"STD\"].dt.second)/60)"
   ]
  },
  {
   "cell_type": "code",
   "execution_count": 304,
   "id": "b3ec200c",
   "metadata": {},
   "outputs": [
    {
     "data": {
      "text/html": [
       "<div>\n",
       "<style scoped>\n",
       "    .dataframe tbody tr th:only-of-type {\n",
       "        vertical-align: middle;\n",
       "    }\n",
       "\n",
       "    .dataframe tbody tr th {\n",
       "        vertical-align: top;\n",
       "    }\n",
       "\n",
       "    .dataframe thead th {\n",
       "        text-align: right;\n",
       "    }\n",
       "</style>\n",
       "<table border=\"1\" class=\"dataframe\">\n",
       "  <thead>\n",
       "    <tr style=\"text-align: right;\">\n",
       "      <th></th>\n",
       "      <th>DATOP</th>\n",
       "      <th>FLTID</th>\n",
       "      <th>DEPSTN</th>\n",
       "      <th>ARRSTN</th>\n",
       "      <th>STD</th>\n",
       "      <th>STA</th>\n",
       "      <th>STATUS</th>\n",
       "      <th>AC</th>\n",
       "      <th>target</th>\n",
       "    </tr>\n",
       "  </thead>\n",
       "  <tbody>\n",
       "    <tr>\n",
       "      <th>0</th>\n",
       "      <td>2016-01-03</td>\n",
       "      <td>TU 0712</td>\n",
       "      <td>CMN</td>\n",
       "      <td>TUN</td>\n",
       "      <td>2016-01-03 10:30:00</td>\n",
       "      <td>2016-01-03 12.55.00</td>\n",
       "      <td>ATA</td>\n",
       "      <td>TU 32AIMN</td>\n",
       "      <td>260.000</td>\n",
       "    </tr>\n",
       "    <tr>\n",
       "      <th>1</th>\n",
       "      <td>2016-01-13</td>\n",
       "      <td>TU 0757</td>\n",
       "      <td>MXP</td>\n",
       "      <td>TUN</td>\n",
       "      <td>2016-01-13 15:05:00</td>\n",
       "      <td>2016-01-13 16.55.00</td>\n",
       "      <td>ATA</td>\n",
       "      <td>TU 31BIMO</td>\n",
       "      <td>20.000</td>\n",
       "    </tr>\n",
       "    <tr>\n",
       "      <th>2</th>\n",
       "      <td>2016-01-16</td>\n",
       "      <td>TU 0214</td>\n",
       "      <td>TUN</td>\n",
       "      <td>IST</td>\n",
       "      <td>2016-01-16 04:10:00</td>\n",
       "      <td>2016-01-16 06.45.00</td>\n",
       "      <td>ATA</td>\n",
       "      <td>TU 32AIMN</td>\n",
       "      <td>0.000</td>\n",
       "    </tr>\n",
       "    <tr>\n",
       "      <th>3</th>\n",
       "      <td>2016-01-17</td>\n",
       "      <td>TU 0480</td>\n",
       "      <td>DJE</td>\n",
       "      <td>NTE</td>\n",
       "      <td>2016-01-17 14:10:00</td>\n",
       "      <td>2016-01-17 17.00.00</td>\n",
       "      <td>ATA</td>\n",
       "      <td>TU 736IOK</td>\n",
       "      <td>0.000</td>\n",
       "    </tr>\n",
       "    <tr>\n",
       "      <th>4</th>\n",
       "      <td>2016-01-17</td>\n",
       "      <td>TU 0338</td>\n",
       "      <td>TUN</td>\n",
       "      <td>ALG</td>\n",
       "      <td>2016-01-17 14:30:00</td>\n",
       "      <td>2016-01-17 15.50.00</td>\n",
       "      <td>ATA</td>\n",
       "      <td>TU 320IMU</td>\n",
       "      <td>22.000</td>\n",
       "    </tr>\n",
       "  </tbody>\n",
       "</table>\n",
       "</div>"
      ],
      "text/plain": [
       "        DATOP     FLTID DEPSTN ARRSTN                  STD  \\\n",
       "0  2016-01-03  TU 0712     CMN    TUN  2016-01-03 10:30:00   \n",
       "1  2016-01-13  TU 0757     MXP    TUN  2016-01-13 15:05:00   \n",
       "2  2016-01-16  TU 0214     TUN    IST  2016-01-16 04:10:00   \n",
       "3  2016-01-17  TU 0480     DJE    NTE  2016-01-17 14:10:00   \n",
       "4  2016-01-17  TU 0338     TUN    ALG  2016-01-17 14:30:00   \n",
       "\n",
       "                   STA STATUS         AC  target  \n",
       "0  2016-01-03 12.55.00    ATA  TU 32AIMN 260.000  \n",
       "1  2016-01-13 16.55.00    ATA  TU 31BIMO  20.000  \n",
       "2  2016-01-16 06.45.00    ATA  TU 32AIMN   0.000  \n",
       "3  2016-01-17 17.00.00    ATA  TU 736IOK   0.000  \n",
       "4  2016-01-17 15.50.00    ATA  TU 320IMU  22.000  "
      ]
     },
     "execution_count": 304,
     "metadata": {},
     "output_type": "execute_result"
    }
   ],
   "source": [
    "data.head()"
   ]
  },
  {
   "cell_type": "code",
   "execution_count": 305,
   "id": "5155aa54",
   "metadata": {},
   "outputs": [],
   "source": [
    "### Now compute the flight scheduled duration in minutes\n",
    "#data['Scheduled_duration']= data['STA'] -data[\"STD\"]"
   ]
  },
  {
   "cell_type": "code",
   "execution_count": 306,
   "id": "5809e33d",
   "metadata": {},
   "outputs": [
    {
     "data": {
      "text/html": [
       "<div>\n",
       "<style scoped>\n",
       "    .dataframe tbody tr th:only-of-type {\n",
       "        vertical-align: middle;\n",
       "    }\n",
       "\n",
       "    .dataframe tbody tr th {\n",
       "        vertical-align: top;\n",
       "    }\n",
       "\n",
       "    .dataframe thead th {\n",
       "        text-align: right;\n",
       "    }\n",
       "</style>\n",
       "<table border=\"1\" class=\"dataframe\">\n",
       "  <thead>\n",
       "    <tr style=\"text-align: right;\">\n",
       "      <th></th>\n",
       "      <th>DATOP</th>\n",
       "      <th>FLTID</th>\n",
       "      <th>DEPSTN</th>\n",
       "      <th>ARRSTN</th>\n",
       "      <th>STD</th>\n",
       "      <th>STA</th>\n",
       "      <th>STATUS</th>\n",
       "      <th>AC</th>\n",
       "      <th>target</th>\n",
       "    </tr>\n",
       "  </thead>\n",
       "  <tbody>\n",
       "    <tr>\n",
       "      <th>0</th>\n",
       "      <td>2016-01-03</td>\n",
       "      <td>TU 0712</td>\n",
       "      <td>CMN</td>\n",
       "      <td>TUN</td>\n",
       "      <td>2016-01-03 10:30:00</td>\n",
       "      <td>2016-01-03 12.55.00</td>\n",
       "      <td>ATA</td>\n",
       "      <td>TU 32AIMN</td>\n",
       "      <td>260.000</td>\n",
       "    </tr>\n",
       "    <tr>\n",
       "      <th>1</th>\n",
       "      <td>2016-01-13</td>\n",
       "      <td>TU 0757</td>\n",
       "      <td>MXP</td>\n",
       "      <td>TUN</td>\n",
       "      <td>2016-01-13 15:05:00</td>\n",
       "      <td>2016-01-13 16.55.00</td>\n",
       "      <td>ATA</td>\n",
       "      <td>TU 31BIMO</td>\n",
       "      <td>20.000</td>\n",
       "    </tr>\n",
       "    <tr>\n",
       "      <th>2</th>\n",
       "      <td>2016-01-16</td>\n",
       "      <td>TU 0214</td>\n",
       "      <td>TUN</td>\n",
       "      <td>IST</td>\n",
       "      <td>2016-01-16 04:10:00</td>\n",
       "      <td>2016-01-16 06.45.00</td>\n",
       "      <td>ATA</td>\n",
       "      <td>TU 32AIMN</td>\n",
       "      <td>0.000</td>\n",
       "    </tr>\n",
       "    <tr>\n",
       "      <th>3</th>\n",
       "      <td>2016-01-17</td>\n",
       "      <td>TU 0480</td>\n",
       "      <td>DJE</td>\n",
       "      <td>NTE</td>\n",
       "      <td>2016-01-17 14:10:00</td>\n",
       "      <td>2016-01-17 17.00.00</td>\n",
       "      <td>ATA</td>\n",
       "      <td>TU 736IOK</td>\n",
       "      <td>0.000</td>\n",
       "    </tr>\n",
       "    <tr>\n",
       "      <th>4</th>\n",
       "      <td>2016-01-17</td>\n",
       "      <td>TU 0338</td>\n",
       "      <td>TUN</td>\n",
       "      <td>ALG</td>\n",
       "      <td>2016-01-17 14:30:00</td>\n",
       "      <td>2016-01-17 15.50.00</td>\n",
       "      <td>ATA</td>\n",
       "      <td>TU 320IMU</td>\n",
       "      <td>22.000</td>\n",
       "    </tr>\n",
       "  </tbody>\n",
       "</table>\n",
       "</div>"
      ],
      "text/plain": [
       "        DATOP     FLTID DEPSTN ARRSTN                  STD  \\\n",
       "0  2016-01-03  TU 0712     CMN    TUN  2016-01-03 10:30:00   \n",
       "1  2016-01-13  TU 0757     MXP    TUN  2016-01-13 15:05:00   \n",
       "2  2016-01-16  TU 0214     TUN    IST  2016-01-16 04:10:00   \n",
       "3  2016-01-17  TU 0480     DJE    NTE  2016-01-17 14:10:00   \n",
       "4  2016-01-17  TU 0338     TUN    ALG  2016-01-17 14:30:00   \n",
       "\n",
       "                   STA STATUS         AC  target  \n",
       "0  2016-01-03 12.55.00    ATA  TU 32AIMN 260.000  \n",
       "1  2016-01-13 16.55.00    ATA  TU 31BIMO  20.000  \n",
       "2  2016-01-16 06.45.00    ATA  TU 32AIMN   0.000  \n",
       "3  2016-01-17 17.00.00    ATA  TU 736IOK   0.000  \n",
       "4  2016-01-17 15.50.00    ATA  TU 320IMU  22.000  "
      ]
     },
     "execution_count": 306,
     "metadata": {},
     "output_type": "execute_result"
    }
   ],
   "source": [
    "data.head()"
   ]
  },
  {
   "cell_type": "code",
   "execution_count": 307,
   "id": "da2ee538",
   "metadata": {},
   "outputs": [],
   "source": [
    "# Now drop the STA and STD Column\n",
    "data = data.drop(columns=['STA','STD'],axis=1)"
   ]
  },
  {
   "cell_type": "code",
   "execution_count": 308,
   "id": "8f9e9a40",
   "metadata": {},
   "outputs": [
    {
     "data": {
      "text/html": [
       "<div>\n",
       "<style scoped>\n",
       "    .dataframe tbody tr th:only-of-type {\n",
       "        vertical-align: middle;\n",
       "    }\n",
       "\n",
       "    .dataframe tbody tr th {\n",
       "        vertical-align: top;\n",
       "    }\n",
       "\n",
       "    .dataframe thead th {\n",
       "        text-align: right;\n",
       "    }\n",
       "</style>\n",
       "<table border=\"1\" class=\"dataframe\">\n",
       "  <thead>\n",
       "    <tr style=\"text-align: right;\">\n",
       "      <th></th>\n",
       "      <th>DATOP</th>\n",
       "      <th>FLTID</th>\n",
       "      <th>DEPSTN</th>\n",
       "      <th>ARRSTN</th>\n",
       "      <th>STATUS</th>\n",
       "      <th>AC</th>\n",
       "      <th>target</th>\n",
       "    </tr>\n",
       "  </thead>\n",
       "  <tbody>\n",
       "    <tr>\n",
       "      <th>0</th>\n",
       "      <td>2016-01-03</td>\n",
       "      <td>TU 0712</td>\n",
       "      <td>CMN</td>\n",
       "      <td>TUN</td>\n",
       "      <td>ATA</td>\n",
       "      <td>TU 32AIMN</td>\n",
       "      <td>260.000</td>\n",
       "    </tr>\n",
       "    <tr>\n",
       "      <th>1</th>\n",
       "      <td>2016-01-13</td>\n",
       "      <td>TU 0757</td>\n",
       "      <td>MXP</td>\n",
       "      <td>TUN</td>\n",
       "      <td>ATA</td>\n",
       "      <td>TU 31BIMO</td>\n",
       "      <td>20.000</td>\n",
       "    </tr>\n",
       "    <tr>\n",
       "      <th>2</th>\n",
       "      <td>2016-01-16</td>\n",
       "      <td>TU 0214</td>\n",
       "      <td>TUN</td>\n",
       "      <td>IST</td>\n",
       "      <td>ATA</td>\n",
       "      <td>TU 32AIMN</td>\n",
       "      <td>0.000</td>\n",
       "    </tr>\n",
       "    <tr>\n",
       "      <th>3</th>\n",
       "      <td>2016-01-17</td>\n",
       "      <td>TU 0480</td>\n",
       "      <td>DJE</td>\n",
       "      <td>NTE</td>\n",
       "      <td>ATA</td>\n",
       "      <td>TU 736IOK</td>\n",
       "      <td>0.000</td>\n",
       "    </tr>\n",
       "    <tr>\n",
       "      <th>4</th>\n",
       "      <td>2016-01-17</td>\n",
       "      <td>TU 0338</td>\n",
       "      <td>TUN</td>\n",
       "      <td>ALG</td>\n",
       "      <td>ATA</td>\n",
       "      <td>TU 320IMU</td>\n",
       "      <td>22.000</td>\n",
       "    </tr>\n",
       "  </tbody>\n",
       "</table>\n",
       "</div>"
      ],
      "text/plain": [
       "        DATOP     FLTID DEPSTN ARRSTN STATUS         AC  target\n",
       "0  2016-01-03  TU 0712     CMN    TUN    ATA  TU 32AIMN 260.000\n",
       "1  2016-01-13  TU 0757     MXP    TUN    ATA  TU 31BIMO  20.000\n",
       "2  2016-01-16  TU 0214     TUN    IST    ATA  TU 32AIMN   0.000\n",
       "3  2016-01-17  TU 0480     DJE    NTE    ATA  TU 736IOK   0.000\n",
       "4  2016-01-17  TU 0338     TUN    ALG    ATA  TU 320IMU  22.000"
      ]
     },
     "execution_count": 308,
     "metadata": {},
     "output_type": "execute_result"
    }
   ],
   "source": [
    "data.head()"
   ]
  },
  {
   "cell_type": "code",
   "execution_count": 309,
   "id": "042815fc",
   "metadata": {},
   "outputs": [
    {
     "name": "stdout",
     "output_type": "stream",
     "text": [
      "<class 'pandas.core.frame.DataFrame'>\n",
      "RangeIndex: 107833 entries, 0 to 107832\n",
      "Data columns (total 7 columns):\n",
      " #   Column  Non-Null Count   Dtype  \n",
      "---  ------  --------------   -----  \n",
      " 0   DATOP   107833 non-null  object \n",
      " 1   FLTID   107833 non-null  object \n",
      " 2   DEPSTN  107833 non-null  object \n",
      " 3   ARRSTN  107833 non-null  object \n",
      " 4   STATUS  107833 non-null  object \n",
      " 5   AC      107833 non-null  object \n",
      " 6   target  107833 non-null  float64\n",
      "dtypes: float64(1), object(6)\n",
      "memory usage: 5.8+ MB\n"
     ]
    }
   ],
   "source": [
    "data.info()"
   ]
  },
  {
   "cell_type": "code",
   "execution_count": 310,
   "id": "b1ee2a9f",
   "metadata": {},
   "outputs": [
    {
     "data": {
      "text/html": [
       "<div>\n",
       "<style scoped>\n",
       "    .dataframe tbody tr th:only-of-type {\n",
       "        vertical-align: middle;\n",
       "    }\n",
       "\n",
       "    .dataframe tbody tr th {\n",
       "        vertical-align: top;\n",
       "    }\n",
       "\n",
       "    .dataframe thead th {\n",
       "        text-align: right;\n",
       "    }\n",
       "</style>\n",
       "<table border=\"1\" class=\"dataframe\">\n",
       "  <thead>\n",
       "    <tr style=\"text-align: right;\">\n",
       "      <th></th>\n",
       "      <th>ID</th>\n",
       "      <th>DATOP</th>\n",
       "      <th>FLTID</th>\n",
       "      <th>DEPSTN</th>\n",
       "      <th>ARRSTN</th>\n",
       "      <th>STD</th>\n",
       "      <th>STA</th>\n",
       "      <th>STATUS</th>\n",
       "      <th>AC</th>\n",
       "    </tr>\n",
       "  </thead>\n",
       "  <tbody>\n",
       "    <tr>\n",
       "      <th>0</th>\n",
       "      <td>test_id_0</td>\n",
       "      <td>2016-05-04</td>\n",
       "      <td>TU 0700</td>\n",
       "      <td>DJE</td>\n",
       "      <td>TUN</td>\n",
       "      <td>2016-05-04 06:40:00</td>\n",
       "      <td>2016-05-04 07.30.00</td>\n",
       "      <td>ATA</td>\n",
       "      <td>TU 32AIMF</td>\n",
       "    </tr>\n",
       "    <tr>\n",
       "      <th>1</th>\n",
       "      <td>test_id_1</td>\n",
       "      <td>2016-05-05</td>\n",
       "      <td>TU 0395</td>\n",
       "      <td>TUN</td>\n",
       "      <td>BKO</td>\n",
       "      <td>2016-05-05 15:20:00</td>\n",
       "      <td>2016-05-05 20.05.00</td>\n",
       "      <td>ATA</td>\n",
       "      <td>TU 320IMW</td>\n",
       "    </tr>\n",
       "    <tr>\n",
       "      <th>2</th>\n",
       "      <td>test_id_2</td>\n",
       "      <td>2016-05-06</td>\n",
       "      <td>TU 0745</td>\n",
       "      <td>FRA</td>\n",
       "      <td>TUN</td>\n",
       "      <td>2016-05-06 10:00:00</td>\n",
       "      <td>2016-05-06 12.25.00</td>\n",
       "      <td>ATA</td>\n",
       "      <td>TU 32AIMC</td>\n",
       "    </tr>\n",
       "    <tr>\n",
       "      <th>3</th>\n",
       "      <td>test_id_3</td>\n",
       "      <td>2016-05-11</td>\n",
       "      <td>TU 0848</td>\n",
       "      <td>BEY</td>\n",
       "      <td>TUN</td>\n",
       "      <td>2016-05-11 09:40:00</td>\n",
       "      <td>2016-05-11 13.10.00</td>\n",
       "      <td>ATA</td>\n",
       "      <td>TU 31BIMO</td>\n",
       "    </tr>\n",
       "    <tr>\n",
       "      <th>4</th>\n",
       "      <td>test_id_4</td>\n",
       "      <td>2016-05-11</td>\n",
       "      <td>TU 0635</td>\n",
       "      <td>ORY</td>\n",
       "      <td>MIR</td>\n",
       "      <td>2016-05-11 09:50:00</td>\n",
       "      <td>2016-05-11 12.35.00</td>\n",
       "      <td>ATA</td>\n",
       "      <td>TU 736IOQ</td>\n",
       "    </tr>\n",
       "  </tbody>\n",
       "</table>\n",
       "</div>"
      ],
      "text/plain": [
       "          ID       DATOP     FLTID DEPSTN ARRSTN                  STD  \\\n",
       "0  test_id_0  2016-05-04  TU 0700     DJE    TUN  2016-05-04 06:40:00   \n",
       "1  test_id_1  2016-05-05  TU 0395     TUN    BKO  2016-05-05 15:20:00   \n",
       "2  test_id_2  2016-05-06  TU 0745     FRA    TUN  2016-05-06 10:00:00   \n",
       "3  test_id_3  2016-05-11  TU 0848     BEY    TUN  2016-05-11 09:40:00   \n",
       "4  test_id_4  2016-05-11  TU 0635     ORY    MIR  2016-05-11 09:50:00   \n",
       "\n",
       "                   STA STATUS         AC  \n",
       "0  2016-05-04 07.30.00    ATA  TU 32AIMF  \n",
       "1  2016-05-05 20.05.00    ATA  TU 320IMW  \n",
       "2  2016-05-06 12.25.00    ATA  TU 32AIMC  \n",
       "3  2016-05-11 13.10.00    ATA  TU 31BIMO  \n",
       "4  2016-05-11 12.35.00    ATA  TU 736IOQ  "
      ]
     },
     "execution_count": 310,
     "metadata": {},
     "output_type": "execute_result"
    }
   ],
   "source": [
    "## Code to print the first five rows of the testing dataset\n",
    "test_data.head()"
   ]
  },
  {
   "cell_type": "code",
   "execution_count": 311,
   "id": "8d673c9f",
   "metadata": {},
   "outputs": [
    {
     "data": {
      "text/plain": [
       "(9333, 9)"
      ]
     },
     "execution_count": 311,
     "metadata": {},
     "output_type": "execute_result"
    }
   ],
   "source": [
    "### Code to print the dimension of the testing dataset\n",
    "test_data.shape"
   ]
  },
  {
   "cell_type": "markdown",
   "id": "c818b82f",
   "metadata": {},
   "source": [
    "### Observation\n",
    "* The testing dataset consist of 9333 rows and 9 columns."
   ]
  },
  {
   "cell_type": "code",
   "execution_count": 312,
   "id": "7f022a53",
   "metadata": {},
   "outputs": [
    {
     "name": "stdout",
     "output_type": "stream",
     "text": [
      "<class 'pandas.core.frame.DataFrame'>\n",
      "RangeIndex: 9333 entries, 0 to 9332\n",
      "Data columns (total 9 columns):\n",
      " #   Column  Non-Null Count  Dtype \n",
      "---  ------  --------------  ----- \n",
      " 0   ID      9333 non-null   object\n",
      " 1   DATOP   9333 non-null   object\n",
      " 2   FLTID   9333 non-null   object\n",
      " 3   DEPSTN  9333 non-null   object\n",
      " 4   ARRSTN  9333 non-null   object\n",
      " 5   STD     9333 non-null   object\n",
      " 6   STA     9333 non-null   object\n",
      " 7   STATUS  9333 non-null   object\n",
      " 8   AC      9333 non-null   object\n",
      "dtypes: object(9)\n",
      "memory usage: 656.4+ KB\n"
     ]
    }
   ],
   "source": [
    "# Code to display the dataset data types\n",
    "test_data.info()"
   ]
  },
  {
   "cell_type": "markdown",
   "id": "d1e3166a",
   "metadata": {},
   "source": [
    "### Observation:\n",
    "* The  training dataset consist of 9333 rows and 9 columns. <br>\n",
    "* All   columnsare object data types. <br>"
   ]
  },
  {
   "cell_type": "code",
   "execution_count": 313,
   "id": "f26c63d9",
   "metadata": {},
   "outputs": [],
   "source": [
    "### Now replace the STA column dot \".\" with a  \":\" \n",
    "#test_data[\"STA\"] = test_data[\"STA\"].astype(str).str.replace(\".\",\":\")"
   ]
  },
  {
   "cell_type": "code",
   "execution_count": 314,
   "id": "ab32dd3e",
   "metadata": {},
   "outputs": [],
   "source": [
    "### Convert  date  object format to datetime format\n",
    "#for item in date_col:\n",
    "      #test_data[item] = pd.to_datetime(test_data[item])"
   ]
  },
  {
   "cell_type": "code",
   "execution_count": 315,
   "id": "346d14c3",
   "metadata": {},
   "outputs": [
    {
     "data": {
      "text/html": [
       "<div>\n",
       "<style scoped>\n",
       "    .dataframe tbody tr th:only-of-type {\n",
       "        vertical-align: middle;\n",
       "    }\n",
       "\n",
       "    .dataframe tbody tr th {\n",
       "        vertical-align: top;\n",
       "    }\n",
       "\n",
       "    .dataframe thead th {\n",
       "        text-align: right;\n",
       "    }\n",
       "</style>\n",
       "<table border=\"1\" class=\"dataframe\">\n",
       "  <thead>\n",
       "    <tr style=\"text-align: right;\">\n",
       "      <th></th>\n",
       "      <th>ID</th>\n",
       "      <th>DATOP</th>\n",
       "      <th>FLTID</th>\n",
       "      <th>DEPSTN</th>\n",
       "      <th>ARRSTN</th>\n",
       "      <th>STD</th>\n",
       "      <th>STA</th>\n",
       "      <th>STATUS</th>\n",
       "      <th>AC</th>\n",
       "    </tr>\n",
       "  </thead>\n",
       "  <tbody>\n",
       "    <tr>\n",
       "      <th>0</th>\n",
       "      <td>test_id_0</td>\n",
       "      <td>2016-05-04</td>\n",
       "      <td>TU 0700</td>\n",
       "      <td>DJE</td>\n",
       "      <td>TUN</td>\n",
       "      <td>2016-05-04 06:40:00</td>\n",
       "      <td>2016-05-04 07.30.00</td>\n",
       "      <td>ATA</td>\n",
       "      <td>TU 32AIMF</td>\n",
       "    </tr>\n",
       "    <tr>\n",
       "      <th>1</th>\n",
       "      <td>test_id_1</td>\n",
       "      <td>2016-05-05</td>\n",
       "      <td>TU 0395</td>\n",
       "      <td>TUN</td>\n",
       "      <td>BKO</td>\n",
       "      <td>2016-05-05 15:20:00</td>\n",
       "      <td>2016-05-05 20.05.00</td>\n",
       "      <td>ATA</td>\n",
       "      <td>TU 320IMW</td>\n",
       "    </tr>\n",
       "    <tr>\n",
       "      <th>2</th>\n",
       "      <td>test_id_2</td>\n",
       "      <td>2016-05-06</td>\n",
       "      <td>TU 0745</td>\n",
       "      <td>FRA</td>\n",
       "      <td>TUN</td>\n",
       "      <td>2016-05-06 10:00:00</td>\n",
       "      <td>2016-05-06 12.25.00</td>\n",
       "      <td>ATA</td>\n",
       "      <td>TU 32AIMC</td>\n",
       "    </tr>\n",
       "    <tr>\n",
       "      <th>3</th>\n",
       "      <td>test_id_3</td>\n",
       "      <td>2016-05-11</td>\n",
       "      <td>TU 0848</td>\n",
       "      <td>BEY</td>\n",
       "      <td>TUN</td>\n",
       "      <td>2016-05-11 09:40:00</td>\n",
       "      <td>2016-05-11 13.10.00</td>\n",
       "      <td>ATA</td>\n",
       "      <td>TU 31BIMO</td>\n",
       "    </tr>\n",
       "    <tr>\n",
       "      <th>4</th>\n",
       "      <td>test_id_4</td>\n",
       "      <td>2016-05-11</td>\n",
       "      <td>TU 0635</td>\n",
       "      <td>ORY</td>\n",
       "      <td>MIR</td>\n",
       "      <td>2016-05-11 09:50:00</td>\n",
       "      <td>2016-05-11 12.35.00</td>\n",
       "      <td>ATA</td>\n",
       "      <td>TU 736IOQ</td>\n",
       "    </tr>\n",
       "  </tbody>\n",
       "</table>\n",
       "</div>"
      ],
      "text/plain": [
       "          ID       DATOP     FLTID DEPSTN ARRSTN                  STD  \\\n",
       "0  test_id_0  2016-05-04  TU 0700     DJE    TUN  2016-05-04 06:40:00   \n",
       "1  test_id_1  2016-05-05  TU 0395     TUN    BKO  2016-05-05 15:20:00   \n",
       "2  test_id_2  2016-05-06  TU 0745     FRA    TUN  2016-05-06 10:00:00   \n",
       "3  test_id_3  2016-05-11  TU 0848     BEY    TUN  2016-05-11 09:40:00   \n",
       "4  test_id_4  2016-05-11  TU 0635     ORY    MIR  2016-05-11 09:50:00   \n",
       "\n",
       "                   STA STATUS         AC  \n",
       "0  2016-05-04 07.30.00    ATA  TU 32AIMF  \n",
       "1  2016-05-05 20.05.00    ATA  TU 320IMW  \n",
       "2  2016-05-06 12.25.00    ATA  TU 32AIMC  \n",
       "3  2016-05-11 13.10.00    ATA  TU 31BIMO  \n",
       "4  2016-05-11 12.35.00    ATA  TU 736IOQ  "
      ]
     },
     "execution_count": 315,
     "metadata": {},
     "output_type": "execute_result"
    }
   ],
   "source": [
    "test_data.head()"
   ]
  },
  {
   "cell_type": "code",
   "execution_count": 316,
   "id": "85c60ec6",
   "metadata": {},
   "outputs": [],
   "source": [
    "### Code to convert the STA datetime into minutes\n",
    "#test_data['STA'] =(test_data[\"STA\"].dt.hour *60) + (test_data[\"STA\"].dt.minute)+ ((test_data[\"STA\"].dt.second)/60)\n",
    "#test_data['STD'] =(test_data[\"STD\"].dt.hour *60) + (test_data[\"STD\"].dt.minute)+ ((test_data[\"STD\"].dt.second)/60)"
   ]
  },
  {
   "cell_type": "code",
   "execution_count": 317,
   "id": "f07d75f1",
   "metadata": {},
   "outputs": [
    {
     "data": {
      "text/html": [
       "<div>\n",
       "<style scoped>\n",
       "    .dataframe tbody tr th:only-of-type {\n",
       "        vertical-align: middle;\n",
       "    }\n",
       "\n",
       "    .dataframe tbody tr th {\n",
       "        vertical-align: top;\n",
       "    }\n",
       "\n",
       "    .dataframe thead th {\n",
       "        text-align: right;\n",
       "    }\n",
       "</style>\n",
       "<table border=\"1\" class=\"dataframe\">\n",
       "  <thead>\n",
       "    <tr style=\"text-align: right;\">\n",
       "      <th></th>\n",
       "      <th>ID</th>\n",
       "      <th>DATOP</th>\n",
       "      <th>FLTID</th>\n",
       "      <th>DEPSTN</th>\n",
       "      <th>ARRSTN</th>\n",
       "      <th>STD</th>\n",
       "      <th>STA</th>\n",
       "      <th>STATUS</th>\n",
       "      <th>AC</th>\n",
       "    </tr>\n",
       "  </thead>\n",
       "  <tbody>\n",
       "    <tr>\n",
       "      <th>0</th>\n",
       "      <td>test_id_0</td>\n",
       "      <td>2016-05-04</td>\n",
       "      <td>TU 0700</td>\n",
       "      <td>DJE</td>\n",
       "      <td>TUN</td>\n",
       "      <td>2016-05-04 06:40:00</td>\n",
       "      <td>2016-05-04 07.30.00</td>\n",
       "      <td>ATA</td>\n",
       "      <td>TU 32AIMF</td>\n",
       "    </tr>\n",
       "    <tr>\n",
       "      <th>1</th>\n",
       "      <td>test_id_1</td>\n",
       "      <td>2016-05-05</td>\n",
       "      <td>TU 0395</td>\n",
       "      <td>TUN</td>\n",
       "      <td>BKO</td>\n",
       "      <td>2016-05-05 15:20:00</td>\n",
       "      <td>2016-05-05 20.05.00</td>\n",
       "      <td>ATA</td>\n",
       "      <td>TU 320IMW</td>\n",
       "    </tr>\n",
       "    <tr>\n",
       "      <th>2</th>\n",
       "      <td>test_id_2</td>\n",
       "      <td>2016-05-06</td>\n",
       "      <td>TU 0745</td>\n",
       "      <td>FRA</td>\n",
       "      <td>TUN</td>\n",
       "      <td>2016-05-06 10:00:00</td>\n",
       "      <td>2016-05-06 12.25.00</td>\n",
       "      <td>ATA</td>\n",
       "      <td>TU 32AIMC</td>\n",
       "    </tr>\n",
       "    <tr>\n",
       "      <th>3</th>\n",
       "      <td>test_id_3</td>\n",
       "      <td>2016-05-11</td>\n",
       "      <td>TU 0848</td>\n",
       "      <td>BEY</td>\n",
       "      <td>TUN</td>\n",
       "      <td>2016-05-11 09:40:00</td>\n",
       "      <td>2016-05-11 13.10.00</td>\n",
       "      <td>ATA</td>\n",
       "      <td>TU 31BIMO</td>\n",
       "    </tr>\n",
       "    <tr>\n",
       "      <th>4</th>\n",
       "      <td>test_id_4</td>\n",
       "      <td>2016-05-11</td>\n",
       "      <td>TU 0635</td>\n",
       "      <td>ORY</td>\n",
       "      <td>MIR</td>\n",
       "      <td>2016-05-11 09:50:00</td>\n",
       "      <td>2016-05-11 12.35.00</td>\n",
       "      <td>ATA</td>\n",
       "      <td>TU 736IOQ</td>\n",
       "    </tr>\n",
       "  </tbody>\n",
       "</table>\n",
       "</div>"
      ],
      "text/plain": [
       "          ID       DATOP     FLTID DEPSTN ARRSTN                  STD  \\\n",
       "0  test_id_0  2016-05-04  TU 0700     DJE    TUN  2016-05-04 06:40:00   \n",
       "1  test_id_1  2016-05-05  TU 0395     TUN    BKO  2016-05-05 15:20:00   \n",
       "2  test_id_2  2016-05-06  TU 0745     FRA    TUN  2016-05-06 10:00:00   \n",
       "3  test_id_3  2016-05-11  TU 0848     BEY    TUN  2016-05-11 09:40:00   \n",
       "4  test_id_4  2016-05-11  TU 0635     ORY    MIR  2016-05-11 09:50:00   \n",
       "\n",
       "                   STA STATUS         AC  \n",
       "0  2016-05-04 07.30.00    ATA  TU 32AIMF  \n",
       "1  2016-05-05 20.05.00    ATA  TU 320IMW  \n",
       "2  2016-05-06 12.25.00    ATA  TU 32AIMC  \n",
       "3  2016-05-11 13.10.00    ATA  TU 31BIMO  \n",
       "4  2016-05-11 12.35.00    ATA  TU 736IOQ  "
      ]
     },
     "execution_count": 317,
     "metadata": {},
     "output_type": "execute_result"
    }
   ],
   "source": [
    "test_data.head()"
   ]
  },
  {
   "cell_type": "code",
   "execution_count": 318,
   "id": "9ec487de",
   "metadata": {},
   "outputs": [],
   "source": [
    "### Now compute the flight scheduled duration in minutes\n",
    "#test_data['Scheduled_duration']= test_data['STA'] -test_data[\"STD\"]"
   ]
  },
  {
   "cell_type": "code",
   "execution_count": 319,
   "id": "06908506",
   "metadata": {},
   "outputs": [
    {
     "data": {
      "text/html": [
       "<div>\n",
       "<style scoped>\n",
       "    .dataframe tbody tr th:only-of-type {\n",
       "        vertical-align: middle;\n",
       "    }\n",
       "\n",
       "    .dataframe tbody tr th {\n",
       "        vertical-align: top;\n",
       "    }\n",
       "\n",
       "    .dataframe thead th {\n",
       "        text-align: right;\n",
       "    }\n",
       "</style>\n",
       "<table border=\"1\" class=\"dataframe\">\n",
       "  <thead>\n",
       "    <tr style=\"text-align: right;\">\n",
       "      <th></th>\n",
       "      <th>ID</th>\n",
       "      <th>DATOP</th>\n",
       "      <th>FLTID</th>\n",
       "      <th>DEPSTN</th>\n",
       "      <th>ARRSTN</th>\n",
       "      <th>STD</th>\n",
       "      <th>STA</th>\n",
       "      <th>STATUS</th>\n",
       "      <th>AC</th>\n",
       "    </tr>\n",
       "  </thead>\n",
       "  <tbody>\n",
       "    <tr>\n",
       "      <th>0</th>\n",
       "      <td>test_id_0</td>\n",
       "      <td>2016-05-04</td>\n",
       "      <td>TU 0700</td>\n",
       "      <td>DJE</td>\n",
       "      <td>TUN</td>\n",
       "      <td>2016-05-04 06:40:00</td>\n",
       "      <td>2016-05-04 07.30.00</td>\n",
       "      <td>ATA</td>\n",
       "      <td>TU 32AIMF</td>\n",
       "    </tr>\n",
       "    <tr>\n",
       "      <th>1</th>\n",
       "      <td>test_id_1</td>\n",
       "      <td>2016-05-05</td>\n",
       "      <td>TU 0395</td>\n",
       "      <td>TUN</td>\n",
       "      <td>BKO</td>\n",
       "      <td>2016-05-05 15:20:00</td>\n",
       "      <td>2016-05-05 20.05.00</td>\n",
       "      <td>ATA</td>\n",
       "      <td>TU 320IMW</td>\n",
       "    </tr>\n",
       "    <tr>\n",
       "      <th>2</th>\n",
       "      <td>test_id_2</td>\n",
       "      <td>2016-05-06</td>\n",
       "      <td>TU 0745</td>\n",
       "      <td>FRA</td>\n",
       "      <td>TUN</td>\n",
       "      <td>2016-05-06 10:00:00</td>\n",
       "      <td>2016-05-06 12.25.00</td>\n",
       "      <td>ATA</td>\n",
       "      <td>TU 32AIMC</td>\n",
       "    </tr>\n",
       "    <tr>\n",
       "      <th>3</th>\n",
       "      <td>test_id_3</td>\n",
       "      <td>2016-05-11</td>\n",
       "      <td>TU 0848</td>\n",
       "      <td>BEY</td>\n",
       "      <td>TUN</td>\n",
       "      <td>2016-05-11 09:40:00</td>\n",
       "      <td>2016-05-11 13.10.00</td>\n",
       "      <td>ATA</td>\n",
       "      <td>TU 31BIMO</td>\n",
       "    </tr>\n",
       "    <tr>\n",
       "      <th>4</th>\n",
       "      <td>test_id_4</td>\n",
       "      <td>2016-05-11</td>\n",
       "      <td>TU 0635</td>\n",
       "      <td>ORY</td>\n",
       "      <td>MIR</td>\n",
       "      <td>2016-05-11 09:50:00</td>\n",
       "      <td>2016-05-11 12.35.00</td>\n",
       "      <td>ATA</td>\n",
       "      <td>TU 736IOQ</td>\n",
       "    </tr>\n",
       "  </tbody>\n",
       "</table>\n",
       "</div>"
      ],
      "text/plain": [
       "          ID       DATOP     FLTID DEPSTN ARRSTN                  STD  \\\n",
       "0  test_id_0  2016-05-04  TU 0700     DJE    TUN  2016-05-04 06:40:00   \n",
       "1  test_id_1  2016-05-05  TU 0395     TUN    BKO  2016-05-05 15:20:00   \n",
       "2  test_id_2  2016-05-06  TU 0745     FRA    TUN  2016-05-06 10:00:00   \n",
       "3  test_id_3  2016-05-11  TU 0848     BEY    TUN  2016-05-11 09:40:00   \n",
       "4  test_id_4  2016-05-11  TU 0635     ORY    MIR  2016-05-11 09:50:00   \n",
       "\n",
       "                   STA STATUS         AC  \n",
       "0  2016-05-04 07.30.00    ATA  TU 32AIMF  \n",
       "1  2016-05-05 20.05.00    ATA  TU 320IMW  \n",
       "2  2016-05-06 12.25.00    ATA  TU 32AIMC  \n",
       "3  2016-05-11 13.10.00    ATA  TU 31BIMO  \n",
       "4  2016-05-11 12.35.00    ATA  TU 736IOQ  "
      ]
     },
     "execution_count": 319,
     "metadata": {},
     "output_type": "execute_result"
    }
   ],
   "source": [
    "test_data.head()"
   ]
  },
  {
   "cell_type": "code",
   "execution_count": 320,
   "id": "ccc328a9",
   "metadata": {},
   "outputs": [],
   "source": [
    "# Now drop the STA and STD Column\n",
    "test_data = test_data.drop(columns=['STA','STD'],axis=1)"
   ]
  },
  {
   "cell_type": "code",
   "execution_count": 321,
   "id": "e72cb542",
   "metadata": {},
   "outputs": [
    {
     "data": {
      "text/plain": [
       "(9333, 7)"
      ]
     },
     "execution_count": 321,
     "metadata": {},
     "output_type": "execute_result"
    }
   ],
   "source": [
    "test_data.shape"
   ]
  },
  {
   "cell_type": "code",
   "execution_count": 322,
   "id": "5507239b",
   "metadata": {},
   "outputs": [
    {
     "data": {
      "text/plain": [
       "(107833, 7)"
      ]
     },
     "execution_count": 322,
     "metadata": {},
     "output_type": "execute_result"
    }
   ],
   "source": [
    "data.shape"
   ]
  },
  {
   "cell_type": "code",
   "execution_count": 323,
   "id": "2eac6d51",
   "metadata": {},
   "outputs": [
    {
     "name": "stdout",
     "output_type": "stream",
     "text": [
      "<class 'pandas.core.frame.DataFrame'>\n",
      "RangeIndex: 9333 entries, 0 to 9332\n",
      "Data columns (total 7 columns):\n",
      " #   Column  Non-Null Count  Dtype \n",
      "---  ------  --------------  ----- \n",
      " 0   ID      9333 non-null   object\n",
      " 1   DATOP   9333 non-null   object\n",
      " 2   FLTID   9333 non-null   object\n",
      " 3   DEPSTN  9333 non-null   object\n",
      " 4   ARRSTN  9333 non-null   object\n",
      " 5   STATUS  9333 non-null   object\n",
      " 6   AC      9333 non-null   object\n",
      "dtypes: object(7)\n",
      "memory usage: 510.5+ KB\n"
     ]
    }
   ],
   "source": [
    "test_data.info()"
   ]
  },
  {
   "cell_type": "code",
   "execution_count": 324,
   "id": "9c284227",
   "metadata": {},
   "outputs": [],
   "source": [
    "### Make a copy of the training dataset\n",
    "flight_data = test_data.copy()"
   ]
  },
  {
   "cell_type": "code",
   "execution_count": 325,
   "id": "eb45ba3d",
   "metadata": {},
   "outputs": [],
   "source": [
    "## drop the ID column\n",
    "flight_data = flight_data.drop(\"ID\",axis=1)"
   ]
  },
  {
   "cell_type": "code",
   "execution_count": 326,
   "id": "c7d3d28d",
   "metadata": {},
   "outputs": [
    {
     "data": {
      "text/html": [
       "<div>\n",
       "<style scoped>\n",
       "    .dataframe tbody tr th:only-of-type {\n",
       "        vertical-align: middle;\n",
       "    }\n",
       "\n",
       "    .dataframe tbody tr th {\n",
       "        vertical-align: top;\n",
       "    }\n",
       "\n",
       "    .dataframe thead th {\n",
       "        text-align: right;\n",
       "    }\n",
       "</style>\n",
       "<table border=\"1\" class=\"dataframe\">\n",
       "  <thead>\n",
       "    <tr style=\"text-align: right;\">\n",
       "      <th></th>\n",
       "      <th>DATOP</th>\n",
       "      <th>FLTID</th>\n",
       "      <th>DEPSTN</th>\n",
       "      <th>ARRSTN</th>\n",
       "      <th>STATUS</th>\n",
       "      <th>AC</th>\n",
       "    </tr>\n",
       "  </thead>\n",
       "  <tbody>\n",
       "    <tr>\n",
       "      <th>0</th>\n",
       "      <td>2016-05-04</td>\n",
       "      <td>TU 0700</td>\n",
       "      <td>DJE</td>\n",
       "      <td>TUN</td>\n",
       "      <td>ATA</td>\n",
       "      <td>TU 32AIMF</td>\n",
       "    </tr>\n",
       "    <tr>\n",
       "      <th>1</th>\n",
       "      <td>2016-05-05</td>\n",
       "      <td>TU 0395</td>\n",
       "      <td>TUN</td>\n",
       "      <td>BKO</td>\n",
       "      <td>ATA</td>\n",
       "      <td>TU 320IMW</td>\n",
       "    </tr>\n",
       "    <tr>\n",
       "      <th>2</th>\n",
       "      <td>2016-05-06</td>\n",
       "      <td>TU 0745</td>\n",
       "      <td>FRA</td>\n",
       "      <td>TUN</td>\n",
       "      <td>ATA</td>\n",
       "      <td>TU 32AIMC</td>\n",
       "    </tr>\n",
       "    <tr>\n",
       "      <th>3</th>\n",
       "      <td>2016-05-11</td>\n",
       "      <td>TU 0848</td>\n",
       "      <td>BEY</td>\n",
       "      <td>TUN</td>\n",
       "      <td>ATA</td>\n",
       "      <td>TU 31BIMO</td>\n",
       "    </tr>\n",
       "    <tr>\n",
       "      <th>4</th>\n",
       "      <td>2016-05-11</td>\n",
       "      <td>TU 0635</td>\n",
       "      <td>ORY</td>\n",
       "      <td>MIR</td>\n",
       "      <td>ATA</td>\n",
       "      <td>TU 736IOQ</td>\n",
       "    </tr>\n",
       "  </tbody>\n",
       "</table>\n",
       "</div>"
      ],
      "text/plain": [
       "        DATOP     FLTID DEPSTN ARRSTN STATUS         AC\n",
       "0  2016-05-04  TU 0700     DJE    TUN    ATA  TU 32AIMF\n",
       "1  2016-05-05  TU 0395     TUN    BKO    ATA  TU 320IMW\n",
       "2  2016-05-06  TU 0745     FRA    TUN    ATA  TU 32AIMC\n",
       "3  2016-05-11  TU 0848     BEY    TUN    ATA  TU 31BIMO\n",
       "4  2016-05-11  TU 0635     ORY    MIR    ATA  TU 736IOQ"
      ]
     },
     "execution_count": 326,
     "metadata": {},
     "output_type": "execute_result"
    }
   ],
   "source": [
    "flight_data.head()"
   ]
  },
  {
   "cell_type": "code",
   "execution_count": 327,
   "id": "5087379e",
   "metadata": {},
   "outputs": [
    {
     "data": {
      "text/html": [
       "<div>\n",
       "<style scoped>\n",
       "    .dataframe tbody tr th:only-of-type {\n",
       "        vertical-align: middle;\n",
       "    }\n",
       "\n",
       "    .dataframe tbody tr th {\n",
       "        vertical-align: top;\n",
       "    }\n",
       "\n",
       "    .dataframe thead th {\n",
       "        text-align: right;\n",
       "    }\n",
       "</style>\n",
       "<table border=\"1\" class=\"dataframe\">\n",
       "  <thead>\n",
       "    <tr style=\"text-align: right;\">\n",
       "      <th></th>\n",
       "      <th>count</th>\n",
       "      <th>unique</th>\n",
       "      <th>top</th>\n",
       "      <th>freq</th>\n",
       "    </tr>\n",
       "  </thead>\n",
       "  <tbody>\n",
       "    <tr>\n",
       "      <th>DATOP</th>\n",
       "      <td>9333</td>\n",
       "      <td>86</td>\n",
       "      <td>2018-09-03</td>\n",
       "      <td>181</td>\n",
       "    </tr>\n",
       "    <tr>\n",
       "      <th>FLTID</th>\n",
       "      <td>9333</td>\n",
       "      <td>700</td>\n",
       "      <td>WKL 0000</td>\n",
       "      <td>267</td>\n",
       "    </tr>\n",
       "    <tr>\n",
       "      <th>DEPSTN</th>\n",
       "      <td>9333</td>\n",
       "      <td>82</td>\n",
       "      <td>TUN</td>\n",
       "      <td>3621</td>\n",
       "    </tr>\n",
       "    <tr>\n",
       "      <th>ARRSTN</th>\n",
       "      <td>9333</td>\n",
       "      <td>84</td>\n",
       "      <td>TUN</td>\n",
       "      <td>3650</td>\n",
       "    </tr>\n",
       "    <tr>\n",
       "      <th>STATUS</th>\n",
       "      <td>9333</td>\n",
       "      <td>5</td>\n",
       "      <td>ATA</td>\n",
       "      <td>8027</td>\n",
       "    </tr>\n",
       "    <tr>\n",
       "      <th>AC</th>\n",
       "      <td>9333</td>\n",
       "      <td>44</td>\n",
       "      <td>TU 320IMS</td>\n",
       "      <td>423</td>\n",
       "    </tr>\n",
       "  </tbody>\n",
       "</table>\n",
       "</div>"
      ],
      "text/plain": [
       "       count unique         top  freq\n",
       "DATOP   9333     86  2018-09-03   181\n",
       "FLTID   9333    700   WKL 0000    267\n",
       "DEPSTN  9333     82         TUN  3621\n",
       "ARRSTN  9333     84         TUN  3650\n",
       "STATUS  9333      5         ATA  8027\n",
       "AC      9333     44   TU 320IMS   423"
      ]
     },
     "execution_count": 327,
     "metadata": {},
     "output_type": "execute_result"
    }
   ],
   "source": [
    " # Code to print the statistical summary of the numerical columns in the training dataset\n",
    "flight_data.describe().T"
   ]
  },
  {
   "cell_type": "code",
   "execution_count": 328,
   "id": "0773a3c3",
   "metadata": {},
   "outputs": [
    {
     "data": {
      "text/html": [
       "<div>\n",
       "<style scoped>\n",
       "    .dataframe tbody tr th:only-of-type {\n",
       "        vertical-align: middle;\n",
       "    }\n",
       "\n",
       "    .dataframe tbody tr th {\n",
       "        vertical-align: top;\n",
       "    }\n",
       "\n",
       "    .dataframe thead th {\n",
       "        text-align: right;\n",
       "    }\n",
       "</style>\n",
       "<table border=\"1\" class=\"dataframe\">\n",
       "  <thead>\n",
       "    <tr style=\"text-align: right;\">\n",
       "      <th></th>\n",
       "      <th>count</th>\n",
       "      <th>mean</th>\n",
       "      <th>std</th>\n",
       "      <th>min</th>\n",
       "      <th>25%</th>\n",
       "      <th>50%</th>\n",
       "      <th>75%</th>\n",
       "      <th>max</th>\n",
       "    </tr>\n",
       "  </thead>\n",
       "  <tbody>\n",
       "    <tr>\n",
       "      <th>target</th>\n",
       "      <td>107833.000</td>\n",
       "      <td>48.733</td>\n",
       "      <td>117.136</td>\n",
       "      <td>0.000</td>\n",
       "      <td>0.000</td>\n",
       "      <td>14.000</td>\n",
       "      <td>43.000</td>\n",
       "      <td>3451.000</td>\n",
       "    </tr>\n",
       "  </tbody>\n",
       "</table>\n",
       "</div>"
      ],
      "text/plain": [
       "            count   mean     std   min   25%    50%    75%      max\n",
       "target 107833.000 48.733 117.136 0.000 0.000 14.000 43.000 3451.000"
      ]
     },
     "execution_count": 328,
     "metadata": {},
     "output_type": "execute_result"
    }
   ],
   "source": [
    "data.describe().T"
   ]
  },
  {
   "cell_type": "code",
   "execution_count": 329,
   "id": "2a422803",
   "metadata": {},
   "outputs": [
    {
     "data": {
      "text/plain": [
       "0"
      ]
     },
     "execution_count": 329,
     "metadata": {},
     "output_type": "execute_result"
    }
   ],
   "source": [
    "# Code to check for missing values in the testing dataset\n",
    "flight_data.isnull().sum().sum()"
   ]
  },
  {
   "cell_type": "code",
   "execution_count": 330,
   "id": "5a4f8a43",
   "metadata": {},
   "outputs": [
    {
     "data": {
      "text/plain": [
       "0"
      ]
     },
     "execution_count": 330,
     "metadata": {},
     "output_type": "execute_result"
    }
   ],
   "source": [
    "data.isnull().sum().sum()"
   ]
  },
  {
   "cell_type": "code",
   "execution_count": 331,
   "id": "640e8483",
   "metadata": {},
   "outputs": [
    {
     "data": {
      "text/plain": [
       "DATOP    0.000\n",
       "FLTID    0.000\n",
       "DEPSTN   0.000\n",
       "ARRSTN   0.000\n",
       "STATUS   0.000\n",
       "AC       0.000\n",
       "dtype: float64"
      ]
     },
     "execution_count": 331,
     "metadata": {},
     "output_type": "execute_result"
    }
   ],
   "source": [
    "### Now compute the  percentage of missing values in each column\n",
    "round((flight_data.isnull().sum()/ flight_data.shape[0])*100,)"
   ]
  },
  {
   "cell_type": "code",
   "execution_count": 332,
   "id": "795163b0",
   "metadata": {},
   "outputs": [
    {
     "data": {
      "text/plain": [
       "16"
      ]
     },
     "execution_count": 332,
     "metadata": {},
     "output_type": "execute_result"
    }
   ],
   "source": [
    "# Code to check for duplicates in the  training dataset\n",
    "data.duplicated().sum()"
   ]
  },
  {
   "cell_type": "code",
   "execution_count": 333,
   "id": "3b0092d1",
   "metadata": {},
   "outputs": [
    {
     "data": {
      "text/plain": [
       "4"
      ]
     },
     "execution_count": 333,
     "metadata": {},
     "output_type": "execute_result"
    }
   ],
   "source": [
    "# Code to check for duplicates in the  testing dataset\n",
    "flight_data.duplicated().sum()"
   ]
  },
  {
   "cell_type": "code",
   "execution_count": 334,
   "id": "c65326bb",
   "metadata": {},
   "outputs": [
    {
     "data": {
      "text/plain": [
       "(9333, 6)"
      ]
     },
     "execution_count": 334,
     "metadata": {},
     "output_type": "execute_result"
    }
   ],
   "source": [
    "flight_data.shape"
   ]
  },
  {
   "cell_type": "markdown",
   "id": "9c7ec9ee",
   "metadata": {},
   "source": [
    "# Exploratory data analysis(EDA)"
   ]
  },
  {
   "cell_type": "markdown",
   "id": "43016284",
   "metadata": {},
   "source": [
    "## Univariate data analysis"
   ]
  },
  {
   "cell_type": "markdown",
   "id": "16d148d4",
   "metadata": {},
   "source": [
    "### Numerical data"
   ]
  },
  {
   "cell_type": "code",
   "execution_count": 335,
   "id": "555d837a",
   "metadata": {},
   "outputs": [],
   "source": [
    "# Code to select the numerical columns from the training dataset\n",
    "numerical_columns =data.select_dtypes(\"number\").columns"
   ]
  },
  {
   "cell_type": "code",
   "execution_count": 336,
   "id": "304ad3df",
   "metadata": {},
   "outputs": [],
   "source": [
    "### Code to create a function to display histogram and boxplot for numerical dataset\n",
    "def box_histplot(data,item):\n",
    "    \n",
    "    plt.figure(figsize=(15,5))                    # increase the size of the plot\n",
    "    plt.title(f\"Histogram for {item}\")           # Give the graph a title\n",
    "    plt.xlabel(item)                            # set the label on the x-axis\n",
    "    plt.ylabel(\"frequency\")                     # set the label on the y-axis\n",
    "    sns.histplot(data=data,x=item,kde=False);  # histogram for numerical dataset\n",
    "    plt.axvline(data[item].mean(),color=\"black\",linestyle=\"--\")\n",
    "    plt.axvline(data[item].median(),color=\"red\",linestyle=\"-\")\n",
    "    plt.show()\n",
    "    plt.figure(figsize=(15,5))                     # increase the size of the plot\n",
    "    plt.title(f\"Boxplot for {item}\")               # Give the plot a suitable title\n",
    "    sns.boxplot(data=data,x=item,showmeans=True);   # Boxplot for numerical dataset\n",
    "    plt.xlabel(item)                               # set the label on the x-axis\n",
    "    plt.show()"
   ]
  },
  {
   "cell_type": "code",
   "execution_count": 337,
   "id": "de7eb449",
   "metadata": {},
   "outputs": [
    {
     "data": {
      "text/plain": [
       "Index(['target'], dtype='object')"
      ]
     },
     "execution_count": 337,
     "metadata": {},
     "output_type": "execute_result"
    }
   ],
   "source": [
    "numerical_columns"
   ]
  },
  {
   "cell_type": "code",
   "execution_count": 338,
   "id": "e1c26c9c",
   "metadata": {},
   "outputs": [
    {
     "data": {
      "image/png": "[encoded data removed]",
      "text/plain": [
       "<Figure size 1500x500 with 1 Axes>"
      ]
     },
     "metadata": {},
     "output_type": "display_data"
    },
    {
     "data": {
      "image/png": "[encoded data removed]",
      "text/plain": [
       "<Figure size 1500x500 with 1 Axes>"
      ]
     },
     "metadata": {},
     "output_type": "display_data"
    }
   ],
   "source": [
    "# Code to call the function to display the histogram and boxplots for numerical columns\n",
    "for item in data[numerical_columns]:\n",
    "    box_histplot(data,item)"
   ]
  },
  {
   "cell_type": "markdown",
   "id": "f6b6c038",
   "metadata": {},
   "source": [
    "## Categorical data analysis:"
   ]
  },
  {
   "cell_type": "code",
   "execution_count": null,
   "id": "096a615b",
   "metadata": {},
   "outputs": [],
   "source": [
    "# Code to select categorical columns\n",
    "categorical_data = data.select_dtypes(\"object\").columns  "
   ]
  },
  {
   "cell_type": "code",
   "execution_count": null,
   "id": "4a951bd6",
   "metadata": {},
   "outputs": [],
   "source": [
    "categorical_data"
   ]
  },
  {
   "cell_type": "code",
   "execution_count": null,
   "id": "2169e7d7",
   "metadata": {},
   "outputs": [],
   "source": [
    "## Create a function to display the bar graphs for categorical data columns\n",
    "def count_plot(data,item):\n",
    "    plt.figure(figsize=(5,4))            # increase the size of the plot\n",
    "    sns.countplot(data=data , x=item);   # countplot for categorical columns\n",
    "    plt.title(f\"Countplot for {item}\")   # add the title on the countplot\n",
    "    plt.ylabel(\"frequency\")              # add the label on the y-axis\n",
    "    plt.xticks(rotation=90) \n",
    "    plt.show()"
   ]
  },
  {
   "cell_type": "code",
   "execution_count": null,
   "id": "08b3bd9d",
   "metadata": {},
   "outputs": [],
   "source": [
    " for variable in categorical_data:\n",
    "        count_plot(data,variable)"
   ]
  },
  {
   "cell_type": "markdown",
   "id": "8c957580",
   "metadata": {},
   "source": [
    "## Bivariate data analysis:"
   ]
  },
  {
   "cell_type": "markdown",
   "id": "a06d0f75",
   "metadata": {},
   "source": [
    "#### Categorical and Numerical data analysis"
   ]
  },
  {
   "cell_type": "code",
   "execution_count": null,
   "id": "9b4d51f3",
   "metadata": {},
   "outputs": [],
   "source": [
    "## Create a function to display boxplots for numerical and categorical dataset\n",
    "def box_plot(data,item_1,categorical_item):\n",
    "    plt.figure(figsize=(15,7))                       # Increase the size of the plot\n",
    "    sns.boxplot(data=data,x = item_1, y = categorical_item, palette = \"Paired_r\") \n",
    "    plt.title(f\"The boxplot for {item_1} relative to {categorical_item}\")\n",
    "    plt.xlabel(item_1)\n",
    "    plt.ylabel(categorical_item)\n",
    "    plt.show()"
   ]
  },
  {
   "cell_type": "markdown",
   "id": "baa23ae3",
   "metadata": {},
   "source": [
    "### Categorical data analysis only"
   ]
  },
  {
   "cell_type": "code",
   "execution_count": null,
   "id": "bf33978d",
   "metadata": {},
   "outputs": [],
   "source": [
    "## Create a function to display a countplot for bivariate categorical columns relatives to churn data\n",
    "def bivariate_plot(data,item_1,item_2,color):\n",
    "    plt.figure(figsize=(10,7))\n",
    "    sns.countplot(x=item_1,data=data,palette=color,hue=item_2)\n",
    "    plt.ylabel(\"frequency\")\n",
    "    plt.xticks(rotation=90)\n",
    "    plt.show()"
   ]
  },
  {
   "cell_type": "code",
   "execution_count": null,
   "id": "21e0689b",
   "metadata": {},
   "outputs": [],
   "source": [
    "categorical_data"
   ]
  },
  {
   "cell_type": "markdown",
   "id": "418b6edc",
   "metadata": {},
   "source": [
    "### Numerical data"
   ]
  },
  {
   "cell_type": "code",
   "execution_count": null,
   "id": "8829b668",
   "metadata": {},
   "outputs": [],
   "source": [
    "#df =green_data[numerical_columns].corr()"
   ]
  },
  {
   "cell_type": "code",
   "execution_count": null,
   "id": "6ab2997c",
   "metadata": {},
   "outputs": [],
   "source": [
    "## Construct a correlation matrix\n",
    "#plt.figure(figsize=(20, 10))\n",
    "#sns.heatmap(df,annot=True,vmin=-1, vmax=1, fmt=\".2f\", cmap=\"Spectral\")\n",
    "#plt.show()"
   ]
  },
  {
   "cell_type": "code",
   "execution_count": 339,
   "id": "2e9dd452",
   "metadata": {},
   "outputs": [],
   "source": [
    "### Select columns that are highly correlated\n",
    "def correlation(data,cut_off):\n",
    "    col_corr = set()\n",
    "    corr_matrix = data.corr()\n",
    "    for i in range(len(corr_matrix.columns)):\n",
    "        for j in range(i):\n",
    "            if abs(corr_matrix.iloc[i,j])> cut_off:\n",
    "                colname = corr_matrix.columns[i]\n",
    "                col_corr.add(colname)\n",
    "    return col_corr"
   ]
  },
  {
   "cell_type": "code",
   "execution_count": 340,
   "id": "6b65b5bd",
   "metadata": {},
   "outputs": [],
   "source": [
    "numerical_columns= data.select_dtypes(\"number\").columns"
   ]
  },
  {
   "cell_type": "code",
   "execution_count": 341,
   "id": "0d306342",
   "metadata": {},
   "outputs": [
    {
     "name": "stdout",
     "output_type": "stream",
     "text": [
      "set()\n"
     ]
    }
   ],
   "source": [
    "### Now lets display the highly correlated columns\n",
    "feature = correlation(data[numerical_columns],0.7)\n",
    "print(feature)"
   ]
  },
  {
   "cell_type": "markdown",
   "id": "21dd4cfb",
   "metadata": {},
   "source": [
    "#### OUTLIER DETECTION AND TREATMENT"
   ]
  },
  {
   "cell_type": "code",
   "execution_count": 407,
   "id": "119d3cd8",
   "metadata": {},
   "outputs": [],
   "source": [
    "numerical_columns1= data.select_dtypes(\"number\").columns"
   ]
  },
  {
   "cell_type": "code",
   "execution_count": 408,
   "id": "8ac88b0f",
   "metadata": {},
   "outputs": [
    {
     "data": {
      "text/plain": [
       "Index(['target'], dtype='object')"
      ]
     },
     "execution_count": 408,
     "metadata": {},
     "output_type": "execute_result"
    }
   ],
   "source": [
    "numerical_columns1"
   ]
  },
  {
   "cell_type": "code",
   "execution_count": 409,
   "id": "e4925f48",
   "metadata": {},
   "outputs": [
    {
     "data": {
      "image/png": "[encoded data removed]",
      "text/plain": [
       "<Figure size 1500x1200 with 1 Axes>"
      ]
     },
     "metadata": {},
     "output_type": "display_data"
    }
   ],
   "source": [
    "plt.figure(figsize=(15, 12))\n",
    "for i, variable in enumerate(numerical_columns1):\n",
    "    plt.subplot(4,7, i + 1)\n",
    "    plt.boxplot(data[variable], whis=1.5)\n",
    "    plt.tight_layout()\n",
    "    plt.title(variable)\n",
    "plt.show()"
   ]
  },
  {
   "cell_type": "markdown",
   "id": "ca3ee765",
   "metadata": {},
   "source": [
    "# LEAVE OUT OUTLIERS"
   ]
  },
  {
   "cell_type": "markdown",
   "id": "73249754",
   "metadata": {},
   "source": [
    "### Treatment of Outliers\n",
    "* 85%  of the numerical columns have outliers on the upper fence of the whiskers\n",
    "* We need to trim the data above the upper fence of the box and whisker diagram."
   ]
  },
  {
   "cell_type": "code",
   "execution_count": 410,
   "id": "f2afafb3",
   "metadata": {},
   "outputs": [],
   "source": [
    "### Create a function to identify outliers\n",
    "def outliers(df):\n",
    "    Q1 = df.quantile(0.25)\n",
    "    Q3 = df.quantile(0.75)\n",
    "    IQR = Q3-Q1\n",
    "    UL = Q3+1.5*IQR\n",
    "    LL = Q1-1.5*IQR\n",
    "    return UL,LL"
   ]
  },
  {
   "cell_type": "code",
   "execution_count": 411,
   "id": "c1af9323",
   "metadata": {},
   "outputs": [],
   "source": [
    "for column in data.columns:\n",
    "    if data[column].dtypes != 'object':\n",
    "        UL,LL = outliers(data[column])\n",
    "        data[column] = np.where((data[column]<LL)|(data[column]>UL),np.nan,data[column])"
   ]
  },
  {
   "cell_type": "code",
   "execution_count": 412,
   "id": "dc1db0ec",
   "metadata": {},
   "outputs": [],
   "source": [
    "for column in flight_data.columns:\n",
    "    if flight_data[column].dtypes != 'object':\n",
    "        UL,LL = outliers(flight_data[column])\n",
    "        flight_data[column] = np.where((flight_data[column]<LL)|(flight_data[column]>UL),np.nan,flight_data[column])"
   ]
  },
  {
   "cell_type": "code",
   "execution_count": 413,
   "id": "5ba24109",
   "metadata": {},
   "outputs": [
    {
     "data": {
      "text/plain": [
       "DATOP         0\n",
       "FLTID         0\n",
       "DEPSTN        0\n",
       "ARRSTN        0\n",
       "STATUS        0\n",
       "AC            0\n",
       "target    14608\n",
       "dtype: int64"
      ]
     },
     "execution_count": 413,
     "metadata": {},
     "output_type": "execute_result"
    }
   ],
   "source": [
    "data.isnull().sum()"
   ]
  },
  {
   "cell_type": "code",
   "execution_count": 414,
   "id": "49a712ee",
   "metadata": {},
   "outputs": [
    {
     "data": {
      "text/html": [
       "<div>\n",
       "<style scoped>\n",
       "    .dataframe tbody tr th:only-of-type {\n",
       "        vertical-align: middle;\n",
       "    }\n",
       "\n",
       "    .dataframe tbody tr th {\n",
       "        vertical-align: top;\n",
       "    }\n",
       "\n",
       "    .dataframe thead th {\n",
       "        text-align: right;\n",
       "    }\n",
       "</style>\n",
       "<table border=\"1\" class=\"dataframe\">\n",
       "  <thead>\n",
       "    <tr style=\"text-align: right;\">\n",
       "      <th></th>\n",
       "      <th>DATOP</th>\n",
       "      <th>FLTID</th>\n",
       "      <th>DEPSTN</th>\n",
       "      <th>ARRSTN</th>\n",
       "      <th>STATUS</th>\n",
       "      <th>AC</th>\n",
       "      <th>target</th>\n",
       "    </tr>\n",
       "  </thead>\n",
       "  <tbody>\n",
       "    <tr>\n",
       "      <th>0</th>\n",
       "      <td>2016-01-03</td>\n",
       "      <td>TU 0712</td>\n",
       "      <td>CMN</td>\n",
       "      <td>TUN</td>\n",
       "      <td>ATA</td>\n",
       "      <td>TU 32AIMN</td>\n",
       "      <td>NaN</td>\n",
       "    </tr>\n",
       "    <tr>\n",
       "      <th>1</th>\n",
       "      <td>2016-01-13</td>\n",
       "      <td>TU 0757</td>\n",
       "      <td>MXP</td>\n",
       "      <td>TUN</td>\n",
       "      <td>ATA</td>\n",
       "      <td>TU 31BIMO</td>\n",
       "      <td>20.000</td>\n",
       "    </tr>\n",
       "    <tr>\n",
       "      <th>2</th>\n",
       "      <td>2016-01-16</td>\n",
       "      <td>TU 0214</td>\n",
       "      <td>TUN</td>\n",
       "      <td>IST</td>\n",
       "      <td>ATA</td>\n",
       "      <td>TU 32AIMN</td>\n",
       "      <td>0.000</td>\n",
       "    </tr>\n",
       "    <tr>\n",
       "      <th>3</th>\n",
       "      <td>2016-01-17</td>\n",
       "      <td>TU 0480</td>\n",
       "      <td>DJE</td>\n",
       "      <td>NTE</td>\n",
       "      <td>ATA</td>\n",
       "      <td>TU 736IOK</td>\n",
       "      <td>0.000</td>\n",
       "    </tr>\n",
       "    <tr>\n",
       "      <th>4</th>\n",
       "      <td>2016-01-17</td>\n",
       "      <td>TU 0338</td>\n",
       "      <td>TUN</td>\n",
       "      <td>ALG</td>\n",
       "      <td>ATA</td>\n",
       "      <td>TU 320IMU</td>\n",
       "      <td>22.000</td>\n",
       "    </tr>\n",
       "  </tbody>\n",
       "</table>\n",
       "</div>"
      ],
      "text/plain": [
       "        DATOP     FLTID DEPSTN ARRSTN STATUS         AC  target\n",
       "0  2016-01-03  TU 0712     CMN    TUN    ATA  TU 32AIMN     NaN\n",
       "1  2016-01-13  TU 0757     MXP    TUN    ATA  TU 31BIMO  20.000\n",
       "2  2016-01-16  TU 0214     TUN    IST    ATA  TU 32AIMN   0.000\n",
       "3  2016-01-17  TU 0480     DJE    NTE    ATA  TU 736IOK   0.000\n",
       "4  2016-01-17  TU 0338     TUN    ALG    ATA  TU 320IMU  22.000"
      ]
     },
     "execution_count": 414,
     "metadata": {},
     "output_type": "execute_result"
    }
   ],
   "source": [
    "data.head()"
   ]
  },
  {
   "cell_type": "code",
   "execution_count": 415,
   "id": "8233d42c",
   "metadata": {},
   "outputs": [
    {
     "data": {
      "text/plain": [
       "107.0"
      ]
     },
     "execution_count": 415,
     "metadata": {},
     "output_type": "execute_result"
    }
   ],
   "source": [
    "data['target'].max()"
   ]
  },
  {
   "cell_type": "markdown",
   "id": "d630a70c",
   "metadata": {},
   "source": [
    "### Split the data into train and validation sets"
   ]
  },
  {
   "cell_type": "code",
   "execution_count": 416,
   "id": "5967aa6e",
   "metadata": {},
   "outputs": [
    {
     "data": {
      "text/plain": [
       "Index(['DATOP', 'FLTID', 'DEPSTN', 'ARRSTN', 'STATUS', 'AC', 'target'], dtype='object')"
      ]
     },
     "execution_count": 416,
     "metadata": {},
     "output_type": "execute_result"
    }
   ],
   "source": [
    "data.columns"
   ]
  },
  {
   "cell_type": "code",
   "execution_count": 417,
   "id": "e23c24a7",
   "metadata": {},
   "outputs": [],
   "source": [
    "# Dividing train data into X and y \n",
    "X = data.drop(['target'], axis=1)\n",
    "y = data['target']"
   ]
  },
  {
   "cell_type": "code",
   "execution_count": 418,
   "id": "4a3535ca",
   "metadata": {},
   "outputs": [],
   "source": [
    "# Splitting the dataset into training and validation set into a ratio of 70:30 \n",
    "X_train, X_val, y_train, y_val = train_test_split(X,y,test_size=0.30,random_state=42)"
   ]
  },
  {
   "cell_type": "code",
   "execution_count": 419,
   "id": "9e83e8d2",
   "metadata": {},
   "outputs": [
    {
     "name": "stdout",
     "output_type": "stream",
     "text": [
      "The training dataset consits of 75483 rows and 6 columns\n"
     ]
    }
   ],
   "source": [
    "print(f\"The training dataset consits of {X_train.shape[0]} rows and {X_train.shape[1]} columns\")"
   ]
  },
  {
   "cell_type": "code",
   "execution_count": 420,
   "id": "2912ffc6",
   "metadata": {},
   "outputs": [
    {
     "name": "stdout",
     "output_type": "stream",
     "text": [
      "The validation dataset consists of 32350 rows and 6 columns\n"
     ]
    }
   ],
   "source": [
    "print(f\"The validation dataset consists of {X_val.shape[0]} rows and {X_val.shape[1]} columns\")"
   ]
  },
  {
   "cell_type": "code",
   "execution_count": 421,
   "id": "043b7cb2",
   "metadata": {},
   "outputs": [
    {
     "data": {
      "text/html": [
       "<div>\n",
       "<style scoped>\n",
       "    .dataframe tbody tr th:only-of-type {\n",
       "        vertical-align: middle;\n",
       "    }\n",
       "\n",
       "    .dataframe tbody tr th {\n",
       "        vertical-align: top;\n",
       "    }\n",
       "\n",
       "    .dataframe thead th {\n",
       "        text-align: right;\n",
       "    }\n",
       "</style>\n",
       "<table border=\"1\" class=\"dataframe\">\n",
       "  <thead>\n",
       "    <tr style=\"text-align: right;\">\n",
       "      <th></th>\n",
       "      <th>DATOP</th>\n",
       "      <th>FLTID</th>\n",
       "      <th>DEPSTN</th>\n",
       "      <th>ARRSTN</th>\n",
       "      <th>STATUS</th>\n",
       "      <th>AC</th>\n",
       "    </tr>\n",
       "  </thead>\n",
       "  <tbody>\n",
       "    <tr>\n",
       "      <th>76952</th>\n",
       "      <td>2018-08-01</td>\n",
       "      <td>TU 8956</td>\n",
       "      <td>MIR</td>\n",
       "      <td>LJU</td>\n",
       "      <td>ATA</td>\n",
       "      <td>TU 32AIMN</td>\n",
       "    </tr>\n",
       "    <tr>\n",
       "      <th>39411</th>\n",
       "      <td>2017-05-24</td>\n",
       "      <td>TU 0246</td>\n",
       "      <td>TUN</td>\n",
       "      <td>SXB</td>\n",
       "      <td>ATA</td>\n",
       "      <td>TU 736IOQ</td>\n",
       "    </tr>\n",
       "    <tr>\n",
       "      <th>18120</th>\n",
       "      <td>2016-02-19</td>\n",
       "      <td>TU 0250</td>\n",
       "      <td>MIR</td>\n",
       "      <td>NCE</td>\n",
       "      <td>ATA</td>\n",
       "      <td>TU 736IOK</td>\n",
       "    </tr>\n",
       "    <tr>\n",
       "      <th>100964</th>\n",
       "      <td>2018-10-26</td>\n",
       "      <td>TU 0538</td>\n",
       "      <td>DJE</td>\n",
       "      <td>DUS</td>\n",
       "      <td>ATA</td>\n",
       "      <td>TU 32AIMI</td>\n",
       "    </tr>\n",
       "    <tr>\n",
       "      <th>44997</th>\n",
       "      <td>2017-04-12</td>\n",
       "      <td>TU 0607</td>\n",
       "      <td>MAD</td>\n",
       "      <td>TUN</td>\n",
       "      <td>ATA</td>\n",
       "      <td>TU 32AIMD</td>\n",
       "    </tr>\n",
       "  </tbody>\n",
       "</table>\n",
       "</div>"
      ],
      "text/plain": [
       "             DATOP     FLTID DEPSTN ARRSTN STATUS         AC\n",
       "76952   2018-08-01  TU 8956     MIR    LJU    ATA  TU 32AIMN\n",
       "39411   2017-05-24  TU 0246     TUN    SXB    ATA  TU 736IOQ\n",
       "18120   2016-02-19  TU 0250     MIR    NCE    ATA  TU 736IOK\n",
       "100964  2018-10-26  TU 0538     DJE    DUS    ATA  TU 32AIMI\n",
       "44997   2017-04-12  TU 0607     MAD    TUN    ATA  TU 32AIMD"
      ]
     },
     "execution_count": 421,
     "metadata": {},
     "output_type": "execute_result"
    }
   ],
   "source": [
    "X_train.head()"
   ]
  },
  {
   "cell_type": "code",
   "execution_count": 422,
   "id": "cb530828",
   "metadata": {},
   "outputs": [
    {
     "name": "stdout",
     "output_type": "stream",
     "text": [
      "<class 'pandas.core.frame.DataFrame'>\n",
      "Index: 75483 entries, 76952 to 15795\n",
      "Data columns (total 6 columns):\n",
      " #   Column  Non-Null Count  Dtype \n",
      "---  ------  --------------  ----- \n",
      " 0   DATOP   75483 non-null  object\n",
      " 1   FLTID   75483 non-null  object\n",
      " 2   DEPSTN  75483 non-null  object\n",
      " 3   ARRSTN  75483 non-null  object\n",
      " 4   STATUS  75483 non-null  object\n",
      " 5   AC      75483 non-null  object\n",
      "dtypes: object(6)\n",
      "memory usage: 4.0+ MB\n"
     ]
    }
   ],
   "source": [
    "X_train.info()"
   ]
  },
  {
   "cell_type": "markdown",
   "id": "17d00067",
   "metadata": {},
   "source": [
    "## Data preprocessing"
   ]
  },
  {
   "cell_type": "markdown",
   "id": "e232dd3f",
   "metadata": {},
   "source": [
    "### Feature engineering"
   ]
  },
  {
   "cell_type": "markdown",
   "id": "8f4e9cf6",
   "metadata": {},
   "source": [
    "### Dealing with missing Values"
   ]
  },
  {
   "cell_type": "code",
   "execution_count": 423,
   "id": "7717dbe1",
   "metadata": {},
   "outputs": [
    {
     "data": {
      "text/plain": [
       "DATOP    0.000\n",
       "FLTID    0.000\n",
       "DEPSTN   0.000\n",
       "ARRSTN   0.000\n",
       "STATUS   0.000\n",
       "AC       0.000\n",
       "dtype: float64"
      ]
     },
     "execution_count": 423,
     "metadata": {},
     "output_type": "execute_result"
    }
   ],
   "source": [
    "X_train.isnull().sum()/X_train.shape[0] *100"
   ]
  },
  {
   "cell_type": "code",
   "execution_count": 424,
   "id": "18decc3d",
   "metadata": {},
   "outputs": [
    {
     "data": {
      "text/plain": [
       "DATOP    0.000\n",
       "FLTID    0.000\n",
       "DEPSTN   0.000\n",
       "ARRSTN   0.000\n",
       "STATUS   0.000\n",
       "AC       0.000\n",
       "dtype: float64"
      ]
     },
     "execution_count": 424,
     "metadata": {},
     "output_type": "execute_result"
    }
   ],
   "source": [
    "X_val.isnull().sum()/X_val.shape[0] *100"
   ]
  },
  {
   "cell_type": "code",
   "execution_count": 425,
   "id": "1755c4c0",
   "metadata": {},
   "outputs": [],
   "source": [
    "# To impute missing values\n",
    "from sklearn.impute import SimpleImputer"
   ]
  },
  {
   "cell_type": "code",
   "execution_count": 228,
   "id": "d607e09b",
   "metadata": {},
   "outputs": [],
   "source": [
    "train_cols = X_train.select_dtypes(\"number\").columns"
   ]
  },
  {
   "cell_type": "code",
   "execution_count": 229,
   "id": "6e833f2a",
   "metadata": {},
   "outputs": [
    {
     "data": {
      "text/plain": [
       "Index(['Scheduled_duration'], dtype='object')"
      ]
     },
     "execution_count": 229,
     "metadata": {},
     "output_type": "execute_result"
    }
   ],
   "source": [
    "train_cols"
   ]
  },
  {
   "cell_type": "code",
   "execution_count": 230,
   "id": "ed25870e",
   "metadata": {},
   "outputs": [
    {
     "name": "stdout",
     "output_type": "stream",
     "text": [
      "The running time:0.682\n"
     ]
    }
   ],
   "source": [
    "## Instantiate the simple imputer \n",
    "median_imputer = SimpleImputer(missing_values=np.nan,strategy=\"mean\")\n",
    "## Fit and transform the numerical columns in the training dataset\n",
    "import time\n",
    "startScript = time.time()\n",
    "X_train[train_cols] = median_imputer.fit_transform(X_train[train_cols])\n",
    "endScript = time.time()\n",
    "display = endScript-startScript   # code to calculate the running time \n",
    "print(f\"The running time:{round(display,4)}\")"
   ]
  },
  {
   "cell_type": "code",
   "execution_count": 231,
   "id": "148aecd3",
   "metadata": {},
   "outputs": [
    {
     "name": "stdout",
     "output_type": "stream",
     "text": [
      "The running time:0.1024\n"
     ]
    }
   ],
   "source": [
    "## Instantiate the simple imputer \n",
    "median_imputer = SimpleImputer(missing_values=np.nan,strategy=\"mean\")\n",
    "## Fit and transform the numerical columns in the training dataset\n",
    "import time\n",
    "startScript = time.time()\n",
    "X_val[train_cols] = median_imputer.fit_transform(X_val[train_cols])\n",
    "endScript = time.time()\n",
    "display = endScript-startScript   # code to calculate the running time \n",
    "print(f\"The running time:{round(display,4)}\")"
   ]
  },
  {
   "cell_type": "code",
   "execution_count": 426,
   "id": "e8dcfbcb",
   "metadata": {},
   "outputs": [
    {
     "data": {
      "text/plain": [
       "76952    16.000\n",
       "39411    21.000\n",
       "18120     0.000\n",
       "100964    0.000\n",
       "44997       NaN\n",
       "Name: target, dtype: float64"
      ]
     },
     "execution_count": 426,
     "metadata": {},
     "output_type": "execute_result"
    }
   ],
   "source": [
    "y_train.head()"
   ]
  },
  {
   "cell_type": "code",
   "execution_count": 427,
   "id": "00376baa",
   "metadata": {},
   "outputs": [],
   "source": [
    "y_train = pd.DataFrame(y_train)"
   ]
  },
  {
   "cell_type": "code",
   "execution_count": 428,
   "id": "7a030294",
   "metadata": {},
   "outputs": [
    {
     "name": "stdout",
     "output_type": "stream",
     "text": [
      "The running time:0.2757\n"
     ]
    }
   ],
   "source": [
    "## Instantiate the simple imputer \n",
    "median_imputer = SimpleImputer(missing_values=np.nan,strategy=\"median\")\n",
    "## Fit and transform the numerical columns in the training dataset\n",
    "import time\n",
    "startScript = time.time()\n",
    "y_train = median_imputer.fit_transform(y_train)\n",
    "endScript = time.time()\n",
    "display = endScript-startScript   # code to calculate the running time \n",
    "print(f\"The running time:{round(display,4)}\")"
   ]
  },
  {
   "cell_type": "code",
   "execution_count": 429,
   "id": "2a1ce611",
   "metadata": {},
   "outputs": [],
   "source": [
    "y_val = pd.DataFrame(y_val)"
   ]
  },
  {
   "cell_type": "code",
   "execution_count": 430,
   "id": "0b03bf9a",
   "metadata": {},
   "outputs": [
    {
     "name": "stdout",
     "output_type": "stream",
     "text": [
      "The running time:0.0325\n"
     ]
    }
   ],
   "source": [
    "## Instantiate the simple imputer \n",
    "median_imputer = SimpleImputer(missing_values=np.nan,strategy=\"median\")\n",
    "## Fit and transform the numerical columns in the training dataset\n",
    "import time\n",
    "startScript = time.time()\n",
    "y_val = median_imputer.fit_transform(y_val)\n",
    "endScript = time.time()\n",
    "display = endScript-startScript   # code to calculate the running time \n",
    "print(f\"The running time:{round(display,4)}\")"
   ]
  },
  {
   "cell_type": "code",
   "execution_count": 240,
   "id": "72e495df",
   "metadata": {},
   "outputs": [],
   "source": [
    "## We need to drop columns with missing values greater than 50% in training dataset"
   ]
  },
  {
   "cell_type": "code",
   "execution_count": 241,
   "id": "f57a1f35",
   "metadata": {},
   "outputs": [
    {
     "name": "stdout",
     "output_type": "stream",
     "text": [
      "[]\n"
     ]
    }
   ],
   "source": [
    "## Code to print the columns with missing values greater than 50%\n",
    "col_feature=[] # create an empty list\n",
    "for item in  data.columns:\n",
    "    if ((data[item].isnull().sum()/data.shape[0])>0.50):\n",
    "        col_feature.append(item)  # append the columns with missing values greater than 50% in the list\n",
    "print(col_feature) "
   ]
  },
  {
   "cell_type": "code",
   "execution_count": 431,
   "id": "3014a5be",
   "metadata": {},
   "outputs": [
    {
     "data": {
      "text/plain": [
       "0"
      ]
     },
     "execution_count": 431,
     "metadata": {},
     "output_type": "execute_result"
    }
   ],
   "source": [
    "X_train.isnull().sum().sum()"
   ]
  },
  {
   "cell_type": "code",
   "execution_count": 432,
   "id": "d35d5fa0",
   "metadata": {},
   "outputs": [
    {
     "data": {
      "text/plain": [
       "0"
      ]
     },
     "execution_count": 432,
     "metadata": {},
     "output_type": "execute_result"
    }
   ],
   "source": [
    "X_val.isnull().sum().sum()"
   ]
  },
  {
   "cell_type": "code",
   "execution_count": 433,
   "id": "5add9feb",
   "metadata": {},
   "outputs": [
    {
     "data": {
      "text/plain": [
       "0"
      ]
     },
     "execution_count": 433,
     "metadata": {},
     "output_type": "execute_result"
    }
   ],
   "source": [
    "flight_data.isnull().sum().sum()"
   ]
  },
  {
   "cell_type": "code",
   "execution_count": 434,
   "id": "73b31a38",
   "metadata": {},
   "outputs": [
    {
     "data": {
      "text/html": [
       "<div>\n",
       "<style scoped>\n",
       "    .dataframe tbody tr th:only-of-type {\n",
       "        vertical-align: middle;\n",
       "    }\n",
       "\n",
       "    .dataframe tbody tr th {\n",
       "        vertical-align: top;\n",
       "    }\n",
       "\n",
       "    .dataframe thead th {\n",
       "        text-align: right;\n",
       "    }\n",
       "</style>\n",
       "<table border=\"1\" class=\"dataframe\">\n",
       "  <thead>\n",
       "    <tr style=\"text-align: right;\">\n",
       "      <th></th>\n",
       "      <th>DATOP</th>\n",
       "      <th>FLTID</th>\n",
       "      <th>DEPSTN</th>\n",
       "      <th>ARRSTN</th>\n",
       "      <th>STATUS</th>\n",
       "      <th>AC</th>\n",
       "    </tr>\n",
       "  </thead>\n",
       "  <tbody>\n",
       "    <tr>\n",
       "      <th>76952</th>\n",
       "      <td>2018-08-01</td>\n",
       "      <td>TU 8956</td>\n",
       "      <td>MIR</td>\n",
       "      <td>LJU</td>\n",
       "      <td>ATA</td>\n",
       "      <td>TU 32AIMN</td>\n",
       "    </tr>\n",
       "    <tr>\n",
       "      <th>39411</th>\n",
       "      <td>2017-05-24</td>\n",
       "      <td>TU 0246</td>\n",
       "      <td>TUN</td>\n",
       "      <td>SXB</td>\n",
       "      <td>ATA</td>\n",
       "      <td>TU 736IOQ</td>\n",
       "    </tr>\n",
       "    <tr>\n",
       "      <th>18120</th>\n",
       "      <td>2016-02-19</td>\n",
       "      <td>TU 0250</td>\n",
       "      <td>MIR</td>\n",
       "      <td>NCE</td>\n",
       "      <td>ATA</td>\n",
       "      <td>TU 736IOK</td>\n",
       "    </tr>\n",
       "    <tr>\n",
       "      <th>100964</th>\n",
       "      <td>2018-10-26</td>\n",
       "      <td>TU 0538</td>\n",
       "      <td>DJE</td>\n",
       "      <td>DUS</td>\n",
       "      <td>ATA</td>\n",
       "      <td>TU 32AIMI</td>\n",
       "    </tr>\n",
       "    <tr>\n",
       "      <th>44997</th>\n",
       "      <td>2017-04-12</td>\n",
       "      <td>TU 0607</td>\n",
       "      <td>MAD</td>\n",
       "      <td>TUN</td>\n",
       "      <td>ATA</td>\n",
       "      <td>TU 32AIMD</td>\n",
       "    </tr>\n",
       "  </tbody>\n",
       "</table>\n",
       "</div>"
      ],
      "text/plain": [
       "             DATOP     FLTID DEPSTN ARRSTN STATUS         AC\n",
       "76952   2018-08-01  TU 8956     MIR    LJU    ATA  TU 32AIMN\n",
       "39411   2017-05-24  TU 0246     TUN    SXB    ATA  TU 736IOQ\n",
       "18120   2016-02-19  TU 0250     MIR    NCE    ATA  TU 736IOK\n",
       "100964  2018-10-26  TU 0538     DJE    DUS    ATA  TU 32AIMI\n",
       "44997   2017-04-12  TU 0607     MAD    TUN    ATA  TU 32AIMD"
      ]
     },
     "execution_count": 434,
     "metadata": {},
     "output_type": "execute_result"
    }
   ],
   "source": [
    "X_train.head()"
   ]
  },
  {
   "cell_type": "code",
   "execution_count": 435,
   "id": "d25dd15e",
   "metadata": {},
   "outputs": [],
   "source": [
    "X_train= X_train.sort_index()"
   ]
  },
  {
   "cell_type": "code",
   "execution_count": 436,
   "id": "8c36d918",
   "metadata": {},
   "outputs": [
    {
     "data": {
      "text/html": [
       "<div>\n",
       "<style scoped>\n",
       "    .dataframe tbody tr th:only-of-type {\n",
       "        vertical-align: middle;\n",
       "    }\n",
       "\n",
       "    .dataframe tbody tr th {\n",
       "        vertical-align: top;\n",
       "    }\n",
       "\n",
       "    .dataframe thead th {\n",
       "        text-align: right;\n",
       "    }\n",
       "</style>\n",
       "<table border=\"1\" class=\"dataframe\">\n",
       "  <thead>\n",
       "    <tr style=\"text-align: right;\">\n",
       "      <th></th>\n",
       "      <th>DATOP</th>\n",
       "      <th>FLTID</th>\n",
       "      <th>DEPSTN</th>\n",
       "      <th>ARRSTN</th>\n",
       "      <th>STATUS</th>\n",
       "      <th>AC</th>\n",
       "    </tr>\n",
       "  </thead>\n",
       "  <tbody>\n",
       "    <tr>\n",
       "      <th>0</th>\n",
       "      <td>2016-01-03</td>\n",
       "      <td>TU 0712</td>\n",
       "      <td>CMN</td>\n",
       "      <td>TUN</td>\n",
       "      <td>ATA</td>\n",
       "      <td>TU 32AIMN</td>\n",
       "    </tr>\n",
       "    <tr>\n",
       "      <th>1</th>\n",
       "      <td>2016-01-13</td>\n",
       "      <td>TU 0757</td>\n",
       "      <td>MXP</td>\n",
       "      <td>TUN</td>\n",
       "      <td>ATA</td>\n",
       "      <td>TU 31BIMO</td>\n",
       "    </tr>\n",
       "    <tr>\n",
       "      <th>2</th>\n",
       "      <td>2016-01-16</td>\n",
       "      <td>TU 0214</td>\n",
       "      <td>TUN</td>\n",
       "      <td>IST</td>\n",
       "      <td>ATA</td>\n",
       "      <td>TU 32AIMN</td>\n",
       "    </tr>\n",
       "    <tr>\n",
       "      <th>4</th>\n",
       "      <td>2016-01-17</td>\n",
       "      <td>TU 0338</td>\n",
       "      <td>TUN</td>\n",
       "      <td>ALG</td>\n",
       "      <td>ATA</td>\n",
       "      <td>TU 320IMU</td>\n",
       "    </tr>\n",
       "    <tr>\n",
       "      <th>5</th>\n",
       "      <td>2016-01-17</td>\n",
       "      <td>TU 0283</td>\n",
       "      <td>TLS</td>\n",
       "      <td>TUN</td>\n",
       "      <td>ATA</td>\n",
       "      <td>TU 736IOP</td>\n",
       "    </tr>\n",
       "  </tbody>\n",
       "</table>\n",
       "</div>"
      ],
      "text/plain": [
       "        DATOP     FLTID DEPSTN ARRSTN STATUS         AC\n",
       "0  2016-01-03  TU 0712     CMN    TUN    ATA  TU 32AIMN\n",
       "1  2016-01-13  TU 0757     MXP    TUN    ATA  TU 31BIMO\n",
       "2  2016-01-16  TU 0214     TUN    IST    ATA  TU 32AIMN\n",
       "4  2016-01-17  TU 0338     TUN    ALG    ATA  TU 320IMU\n",
       "5  2016-01-17  TU 0283     TLS    TUN    ATA  TU 736IOP"
      ]
     },
     "execution_count": 436,
     "metadata": {},
     "output_type": "execute_result"
    }
   ],
   "source": [
    "X_train.head()"
   ]
  },
  {
   "cell_type": "code",
   "execution_count": 437,
   "id": "6f40fe2b",
   "metadata": {},
   "outputs": [],
   "source": [
    "X_val =X_val.sort_index()"
   ]
  },
  {
   "cell_type": "code",
   "execution_count": 438,
   "id": "7259d8cf",
   "metadata": {},
   "outputs": [
    {
     "data": {
      "text/html": [
       "<div>\n",
       "<style scoped>\n",
       "    .dataframe tbody tr th:only-of-type {\n",
       "        vertical-align: middle;\n",
       "    }\n",
       "\n",
       "    .dataframe tbody tr th {\n",
       "        vertical-align: top;\n",
       "    }\n",
       "\n",
       "    .dataframe thead th {\n",
       "        text-align: right;\n",
       "    }\n",
       "</style>\n",
       "<table border=\"1\" class=\"dataframe\">\n",
       "  <thead>\n",
       "    <tr style=\"text-align: right;\">\n",
       "      <th></th>\n",
       "      <th>DATOP</th>\n",
       "      <th>FLTID</th>\n",
       "      <th>DEPSTN</th>\n",
       "      <th>ARRSTN</th>\n",
       "      <th>STATUS</th>\n",
       "      <th>AC</th>\n",
       "    </tr>\n",
       "  </thead>\n",
       "  <tbody>\n",
       "    <tr>\n",
       "      <th>3</th>\n",
       "      <td>2016-01-17</td>\n",
       "      <td>TU 0480</td>\n",
       "      <td>DJE</td>\n",
       "      <td>NTE</td>\n",
       "      <td>ATA</td>\n",
       "      <td>TU 736IOK</td>\n",
       "    </tr>\n",
       "    <tr>\n",
       "      <th>8</th>\n",
       "      <td>2016-01-18</td>\n",
       "      <td>TU 0752</td>\n",
       "      <td>TUN</td>\n",
       "      <td>FCO</td>\n",
       "      <td>ATA</td>\n",
       "      <td>TU 32AIMC</td>\n",
       "    </tr>\n",
       "    <tr>\n",
       "      <th>17</th>\n",
       "      <td>2016-01-23</td>\n",
       "      <td>TU 0726</td>\n",
       "      <td>MIR</td>\n",
       "      <td>BRU</td>\n",
       "      <td>ATA</td>\n",
       "      <td>TU 31AIMJ</td>\n",
       "    </tr>\n",
       "    <tr>\n",
       "      <th>23</th>\n",
       "      <td>2016-02-01</td>\n",
       "      <td>TU 0913</td>\n",
       "      <td>TUN</td>\n",
       "      <td>MED</td>\n",
       "      <td>ATA</td>\n",
       "      <td>TU 320IMT</td>\n",
       "    </tr>\n",
       "    <tr>\n",
       "      <th>24</th>\n",
       "      <td>2016-02-02</td>\n",
       "      <td>TU 0711</td>\n",
       "      <td>TUN</td>\n",
       "      <td>CMN</td>\n",
       "      <td>ATA</td>\n",
       "      <td>TU 320IMU</td>\n",
       "    </tr>\n",
       "  </tbody>\n",
       "</table>\n",
       "</div>"
      ],
      "text/plain": [
       "         DATOP     FLTID DEPSTN ARRSTN STATUS         AC\n",
       "3   2016-01-17  TU 0480     DJE    NTE    ATA  TU 736IOK\n",
       "8   2016-01-18  TU 0752     TUN    FCO    ATA  TU 32AIMC\n",
       "17  2016-01-23  TU 0726     MIR    BRU    ATA  TU 31AIMJ\n",
       "23  2016-02-01  TU 0913     TUN    MED    ATA  TU 320IMT\n",
       "24  2016-02-02  TU 0711     TUN    CMN    ATA  TU 320IMU"
      ]
     },
     "execution_count": 438,
     "metadata": {},
     "output_type": "execute_result"
    }
   ],
   "source": [
    "X_val.head()"
   ]
  },
  {
   "cell_type": "code",
   "execution_count": 439,
   "id": "5b1843be",
   "metadata": {},
   "outputs": [
    {
     "data": {
      "text/plain": [
       "((75483, 6), (32350, 6))"
      ]
     },
     "execution_count": 439,
     "metadata": {},
     "output_type": "execute_result"
    }
   ],
   "source": [
    "X_train.shape , X_val.shape"
   ]
  },
  {
   "cell_type": "code",
   "execution_count": 440,
   "id": "ff4a8029",
   "metadata": {},
   "outputs": [
    {
     "data": {
      "text/plain": [
       "(9333, 8)"
      ]
     },
     "execution_count": 440,
     "metadata": {},
     "output_type": "execute_result"
    }
   ],
   "source": [
    "test_data.shape"
   ]
  },
  {
   "cell_type": "code",
   "execution_count": 441,
   "id": "4e656ca0",
   "metadata": {},
   "outputs": [
    {
     "data": {
      "text/html": [
       "<div>\n",
       "<style scoped>\n",
       "    .dataframe tbody tr th:only-of-type {\n",
       "        vertical-align: middle;\n",
       "    }\n",
       "\n",
       "    .dataframe tbody tr th {\n",
       "        vertical-align: top;\n",
       "    }\n",
       "\n",
       "    .dataframe thead th {\n",
       "        text-align: right;\n",
       "    }\n",
       "</style>\n",
       "<table border=\"1\" class=\"dataframe\">\n",
       "  <thead>\n",
       "    <tr style=\"text-align: right;\">\n",
       "      <th></th>\n",
       "      <th>DATOP</th>\n",
       "      <th>FLTID</th>\n",
       "      <th>DEPSTN</th>\n",
       "      <th>ARRSTN</th>\n",
       "      <th>STATUS</th>\n",
       "      <th>AC</th>\n",
       "    </tr>\n",
       "  </thead>\n",
       "  <tbody>\n",
       "    <tr>\n",
       "      <th>0</th>\n",
       "      <td>2016-05-04</td>\n",
       "      <td>TU 0700</td>\n",
       "      <td>DJE</td>\n",
       "      <td>TUN</td>\n",
       "      <td>ATA</td>\n",
       "      <td>TU 32AIMF</td>\n",
       "    </tr>\n",
       "    <tr>\n",
       "      <th>1</th>\n",
       "      <td>2016-05-05</td>\n",
       "      <td>TU 0395</td>\n",
       "      <td>TUN</td>\n",
       "      <td>BKO</td>\n",
       "      <td>ATA</td>\n",
       "      <td>TU 320IMW</td>\n",
       "    </tr>\n",
       "    <tr>\n",
       "      <th>2</th>\n",
       "      <td>2016-05-06</td>\n",
       "      <td>TU 0745</td>\n",
       "      <td>FRA</td>\n",
       "      <td>TUN</td>\n",
       "      <td>ATA</td>\n",
       "      <td>TU 32AIMC</td>\n",
       "    </tr>\n",
       "    <tr>\n",
       "      <th>3</th>\n",
       "      <td>2016-05-11</td>\n",
       "      <td>TU 0848</td>\n",
       "      <td>BEY</td>\n",
       "      <td>TUN</td>\n",
       "      <td>ATA</td>\n",
       "      <td>TU 31BIMO</td>\n",
       "    </tr>\n",
       "    <tr>\n",
       "      <th>4</th>\n",
       "      <td>2016-05-11</td>\n",
       "      <td>TU 0635</td>\n",
       "      <td>ORY</td>\n",
       "      <td>MIR</td>\n",
       "      <td>ATA</td>\n",
       "      <td>TU 736IOQ</td>\n",
       "    </tr>\n",
       "  </tbody>\n",
       "</table>\n",
       "</div>"
      ],
      "text/plain": [
       "        DATOP     FLTID DEPSTN ARRSTN STATUS         AC\n",
       "0  2016-05-04  TU 0700     DJE    TUN    ATA  TU 32AIMF\n",
       "1  2016-05-05  TU 0395     TUN    BKO    ATA  TU 320IMW\n",
       "2  2016-05-06  TU 0745     FRA    TUN    ATA  TU 32AIMC\n",
       "3  2016-05-11  TU 0848     BEY    TUN    ATA  TU 31BIMO\n",
       "4  2016-05-11  TU 0635     ORY    MIR    ATA  TU 736IOQ"
      ]
     },
     "execution_count": 441,
     "metadata": {},
     "output_type": "execute_result"
    }
   ],
   "source": [
    "flight_data.head()"
   ]
  },
  {
   "cell_type": "code",
   "execution_count": 442,
   "id": "4b7923d2",
   "metadata": {},
   "outputs": [
    {
     "data": {
      "text/plain": [
       "(9333, 6)"
      ]
     },
     "execution_count": 442,
     "metadata": {},
     "output_type": "execute_result"
    }
   ],
   "source": [
    "flight_data.shape"
   ]
  },
  {
   "cell_type": "code",
   "execution_count": 443,
   "id": "63aa01c5",
   "metadata": {},
   "outputs": [],
   "source": [
    "X_test = flight_data.copy()"
   ]
  },
  {
   "cell_type": "code",
   "execution_count": 444,
   "id": "162121db",
   "metadata": {},
   "outputs": [
    {
     "data": {
      "text/html": [
       "<div>\n",
       "<style scoped>\n",
       "    .dataframe tbody tr th:only-of-type {\n",
       "        vertical-align: middle;\n",
       "    }\n",
       "\n",
       "    .dataframe tbody tr th {\n",
       "        vertical-align: top;\n",
       "    }\n",
       "\n",
       "    .dataframe thead th {\n",
       "        text-align: right;\n",
       "    }\n",
       "</style>\n",
       "<table border=\"1\" class=\"dataframe\">\n",
       "  <thead>\n",
       "    <tr style=\"text-align: right;\">\n",
       "      <th></th>\n",
       "      <th>DATOP</th>\n",
       "      <th>FLTID</th>\n",
       "      <th>DEPSTN</th>\n",
       "      <th>ARRSTN</th>\n",
       "      <th>STATUS</th>\n",
       "      <th>AC</th>\n",
       "    </tr>\n",
       "  </thead>\n",
       "  <tbody>\n",
       "    <tr>\n",
       "      <th>0</th>\n",
       "      <td>2016-05-04</td>\n",
       "      <td>TU 0700</td>\n",
       "      <td>DJE</td>\n",
       "      <td>TUN</td>\n",
       "      <td>ATA</td>\n",
       "      <td>TU 32AIMF</td>\n",
       "    </tr>\n",
       "    <tr>\n",
       "      <th>1</th>\n",
       "      <td>2016-05-05</td>\n",
       "      <td>TU 0395</td>\n",
       "      <td>TUN</td>\n",
       "      <td>BKO</td>\n",
       "      <td>ATA</td>\n",
       "      <td>TU 320IMW</td>\n",
       "    </tr>\n",
       "    <tr>\n",
       "      <th>2</th>\n",
       "      <td>2016-05-06</td>\n",
       "      <td>TU 0745</td>\n",
       "      <td>FRA</td>\n",
       "      <td>TUN</td>\n",
       "      <td>ATA</td>\n",
       "      <td>TU 32AIMC</td>\n",
       "    </tr>\n",
       "    <tr>\n",
       "      <th>3</th>\n",
       "      <td>2016-05-11</td>\n",
       "      <td>TU 0848</td>\n",
       "      <td>BEY</td>\n",
       "      <td>TUN</td>\n",
       "      <td>ATA</td>\n",
       "      <td>TU 31BIMO</td>\n",
       "    </tr>\n",
       "    <tr>\n",
       "      <th>4</th>\n",
       "      <td>2016-05-11</td>\n",
       "      <td>TU 0635</td>\n",
       "      <td>ORY</td>\n",
       "      <td>MIR</td>\n",
       "      <td>ATA</td>\n",
       "      <td>TU 736IOQ</td>\n",
       "    </tr>\n",
       "  </tbody>\n",
       "</table>\n",
       "</div>"
      ],
      "text/plain": [
       "        DATOP     FLTID DEPSTN ARRSTN STATUS         AC\n",
       "0  2016-05-04  TU 0700     DJE    TUN    ATA  TU 32AIMF\n",
       "1  2016-05-05  TU 0395     TUN    BKO    ATA  TU 320IMW\n",
       "2  2016-05-06  TU 0745     FRA    TUN    ATA  TU 32AIMC\n",
       "3  2016-05-11  TU 0848     BEY    TUN    ATA  TU 31BIMO\n",
       "4  2016-05-11  TU 0635     ORY    MIR    ATA  TU 736IOQ"
      ]
     },
     "execution_count": 444,
     "metadata": {},
     "output_type": "execute_result"
    }
   ],
   "source": [
    "X_test.head()"
   ]
  },
  {
   "cell_type": "code",
   "execution_count": 1,
   "id": "bb765ae5",
   "metadata": {},
   "outputs": [],
   "source": [
    "## Instantiate the simple imputer \n",
    "#median_imputer = SimpleImputer(missing_values=np.nan,strategy=\"mean\")\n",
    "## Fit and transform the numerical columns in the training dataset\n",
    "#import time\n",
    "#startScript = time.time()\n",
    "#X_test[train_cols] = median_imputer.fit_transform(X_test[train_cols])\n",
    "#endScript = time.time()\n",
    "#display = endScript-startScript   # code to calculate the running time \n",
    "#print(f\"The running time:{round(display,4)}\")"
   ]
  },
  {
   "cell_type": "code",
   "execution_count": 446,
   "id": "914f61ca",
   "metadata": {},
   "outputs": [
    {
     "data": {
      "text/plain": [
       "(75483, 6)"
      ]
     },
     "execution_count": 446,
     "metadata": {},
     "output_type": "execute_result"
    }
   ],
   "source": [
    "X_train.shape"
   ]
  },
  {
   "cell_type": "code",
   "execution_count": 447,
   "id": "96e7706b",
   "metadata": {},
   "outputs": [
    {
     "data": {
      "text/plain": [
       "(32350, 6)"
      ]
     },
     "execution_count": 447,
     "metadata": {},
     "output_type": "execute_result"
    }
   ],
   "source": [
    "X_val.shape"
   ]
  },
  {
   "cell_type": "code",
   "execution_count": 448,
   "id": "64cfcfcf",
   "metadata": {},
   "outputs": [
    {
     "data": {
      "text/plain": [
       "(9333, 6)"
      ]
     },
     "execution_count": 448,
     "metadata": {},
     "output_type": "execute_result"
    }
   ],
   "source": [
    "X_test.shape"
   ]
  },
  {
   "cell_type": "code",
   "execution_count": 449,
   "id": "69e9a45e",
   "metadata": {},
   "outputs": [
    {
     "data": {
      "text/plain": [
       "0"
      ]
     },
     "execution_count": 449,
     "metadata": {},
     "output_type": "execute_result"
    }
   ],
   "source": [
    "X_test.isnull().sum().sum()"
   ]
  },
  {
   "cell_type": "markdown",
   "id": "73884395",
   "metadata": {},
   "source": [
    "### Model Building: CATBOOST "
   ]
  },
  {
   "cell_type": "markdown",
   "id": "b05ad63b",
   "metadata": {},
   "source": [
    "## Performance measures description: RMSE\n"
   ]
  },
  {
   "cell_type": "code",
   "execution_count": 450,
   "id": "03e9c555",
   "metadata": {},
   "outputs": [],
   "source": [
    "# defining a function to compute different metrics to check performance of a classification model built using sklearn\n",
    "def model_performance_regression_sklearn(model, predictors, target):\n",
    "\n",
    "        # predicting using the independent variables\n",
    "        pred = model.predict(predictors)\n",
    "        rmse= mean_squared_error(target,pred,squared=False)  # to compute the room mean square error using the target and predicted values\n",
    "        mse= mean_squared_error(target,pred,squared=True)   # compute the mean squared error  \n",
    "        mae = mean_absolute_error(target, pred)  # to compute mean absolute error using target and predicted values\n",
    "       \n",
    "        \n",
    "        # creating a dataframe of metrics\n",
    "        df_perf = pd.DataFrame( {\"Root Mean Squared error\":rmse,\"Mean Squared error\":mse,\n",
    "                                 \"Mean Absolute error\": mae },index=[0],)\n",
    "\n",
    "        return df_perf"
   ]
  },
  {
   "cell_type": "code",
   "execution_count": 451,
   "id": "f39dcf09",
   "metadata": {},
   "outputs": [],
   "source": [
    "# Type of scoring used to compare parameter combinations\n",
    "scorer = metrics.make_scorer(metrics.r2_score)"
   ]
  },
  {
   "cell_type": "code",
   "execution_count": 452,
   "id": "5c4b6b0d",
   "metadata": {},
   "outputs": [],
   "source": [
    "### Code to select all the features on the training dataset\n",
    "features = list(X_train.columns)"
   ]
  },
  {
   "cell_type": "code",
   "execution_count": 453,
   "id": "95c3d992",
   "metadata": {},
   "outputs": [
    {
     "data": {
      "text/plain": [
       "['DATOP', 'FLTID', 'DEPSTN', 'ARRSTN', 'STATUS', 'AC']"
      ]
     },
     "execution_count": 453,
     "metadata": {},
     "output_type": "execute_result"
    }
   ],
   "source": [
    "features"
   ]
  },
  {
   "cell_type": "code",
   "execution_count": 454,
   "id": "17a7996b",
   "metadata": {},
   "outputs": [],
   "source": [
    "### Code to select categorical features\n",
    "cat_features = np.where(X_train.dtypes !=float)[0]"
   ]
  },
  {
   "cell_type": "code",
   "execution_count": 455,
   "id": "576445b5",
   "metadata": {},
   "outputs": [
    {
     "data": {
      "text/plain": [
       "array([0, 1, 2, 3, 4, 5], dtype=int64)"
      ]
     },
     "execution_count": 455,
     "metadata": {},
     "output_type": "execute_result"
    }
   ],
   "source": [
    "cat_features"
   ]
  },
  {
   "cell_type": "code",
   "execution_count": 456,
   "id": "d8d7368f",
   "metadata": {},
   "outputs": [
    {
     "data": {
      "application/vnd.jupyter.widget-view+json": {
       "model_id": "4534ca9045bc40368e6d45a3b45146ef",
       "version_major": 2,
       "version_minor": 0
      },
      "text/plain": [
       "MetricVisualizer(layout=Layout(align_self='stretch', height='500px'))"
      ]
     },
     "metadata": {},
     "output_type": "display_data"
    },
    {
     "name": "stderr",
     "output_type": "stream",
     "text": [
      "Warning: Overfitting detector is active, thus evaluation metric is calculated on every iteration. 'metric_period' is ignored for evaluation metric.\n"
     ]
    },
    {
     "name": "stdout",
     "output_type": "stream",
     "text": [
      "0:\tlearn: 20.9136043\ttest: 21.0074041\tbest: 21.0074041 (0)\ttotal: 1.2s\tremaining: 1h 40m 19s\n",
      "20:\tlearn: 20.9135628\ttest: 21.0074040\tbest: 21.0074037 (3)\ttotal: 5.02s\tremaining: 19m 51s\n",
      "Stopped by overfitting detector  (20 iterations wait)\n",
      "\n",
      "bestTest = 21.00740367\n",
      "bestIteration = 3\n",
      "\n",
      "Shrink model to first 4 iterations.\n"
     ]
    }
   ],
   "source": [
    "### Instantiate the Catboost model\n",
    "model = CatBoostRegressor( \n",
    "                          iterations=5000,\n",
    "                          eval_metric=\"RMSE\",\n",
    "                          learning_rate=0.001,\n",
    "                          depth=4,\n",
    "                          loss_function =\"RMSE\",\n",
    "                          random_seed = 35,    \n",
    "                          od_type ='Iter',    # Overfit detector\n",
    "                          od_wait = 20,  # most recent best iteration to wait before stopping\n",
    "                          verbose=True,\n",
    "                          use_best_model=True,\n",
    "                          metric_period =20\n",
    "                         )\n",
    "### Now fit the model in the training dataset\n",
    "cat_model = model.fit(X_train,y_train,cat_features= cat_features,use_best_model=True,plot=True,\n",
    "                     eval_set= (X_val,y_val))"
   ]
  },
  {
   "cell_type": "code",
   "execution_count": 457,
   "id": "6a80de83",
   "metadata": {},
   "outputs": [],
   "source": [
    "## Check the performamce for each model in the training data of the imbalanced data \n",
    "cat_train_perf = model_performance_regression_sklearn(cat_model,X_train,y_train)\n",
    "## Check the performamce for each model in the imbalanced validation data\n",
    "cat_val_perf= model_performance_regression_sklearn(cat_model,X_val,y_val)"
   ]
  },
  {
   "cell_type": "code",
   "execution_count": 458,
   "id": "ef8dbc7d",
   "metadata": {},
   "outputs": [],
   "source": [
    "cat_perf = pd.concat([cat_train_perf.T,cat_val_perf.T],axis=1)\n",
    "cat_perf.columns =[\"Training\",\"Validation\"]"
   ]
  },
  {
   "cell_type": "code",
   "execution_count": 459,
   "id": "c589ae48",
   "metadata": {},
   "outputs": [
    {
     "name": "stdout",
     "output_type": "stream",
     "text": [
      "CATBoost Peformance measures on the original data\n"
     ]
    },
    {
     "data": {
      "text/html": [
       "<div>\n",
       "<style scoped>\n",
       "    .dataframe tbody tr th:only-of-type {\n",
       "        vertical-align: middle;\n",
       "    }\n",
       "\n",
       "    .dataframe tbody tr th {\n",
       "        vertical-align: top;\n",
       "    }\n",
       "\n",
       "    .dataframe thead th {\n",
       "        text-align: right;\n",
       "    }\n",
       "</style>\n",
       "<table border=\"1\" class=\"dataframe\">\n",
       "  <thead>\n",
       "    <tr style=\"text-align: right;\">\n",
       "      <th></th>\n",
       "      <th>Training</th>\n",
       "      <th>Validation</th>\n",
       "    </tr>\n",
       "  </thead>\n",
       "  <tbody>\n",
       "    <tr>\n",
       "      <th>Root Mean Squared error</th>\n",
       "      <td>20.914</td>\n",
       "      <td>21.007</td>\n",
       "    </tr>\n",
       "    <tr>\n",
       "      <th>Mean Squared error</th>\n",
       "      <td>437.379</td>\n",
       "      <td>441.311</td>\n",
       "    </tr>\n",
       "    <tr>\n",
       "      <th>Mean Absolute error</th>\n",
       "      <td>15.626</td>\n",
       "      <td>15.525</td>\n",
       "    </tr>\n",
       "  </tbody>\n",
       "</table>\n",
       "</div>"
      ],
      "text/plain": [
       "                         Training  Validation\n",
       "Root Mean Squared error    20.914      21.007\n",
       "Mean Squared error        437.379     441.311\n",
       "Mean Absolute error        15.626      15.525"
      ]
     },
     "execution_count": 459,
     "metadata": {},
     "output_type": "execute_result"
    }
   ],
   "source": [
    "print(\"CATBoost Peformance measures on the original data\")\n",
    "cat_perf"
   ]
  },
  {
   "cell_type": "markdown",
   "id": "ada2ea07",
   "metadata": {},
   "source": [
    "### Hyperparametric tuning for Catboost Classifier"
   ]
  },
  {
   "cell_type": "code",
   "execution_count": 460,
   "id": "ed517039",
   "metadata": {},
   "outputs": [
    {
     "name": "stdout",
     "output_type": "stream",
     "text": [
      "0:\tlearn: 20.8556415\ttotal: 341ms\tremaining: 6.49s\n",
      "19:\tlearn: 20.8554236\ttotal: 2.27s\tremaining: 0us\n",
      "0:\tlearn: 20.8693710\ttotal: 38ms\tremaining: 723ms\n",
      "19:\tlearn: 20.8692026\ttotal: 1.72s\tremaining: 0us\n",
      "0:\tlearn: 21.0153137\ttotal: 102ms\tremaining: 1.94s\n",
      "19:\tlearn: 21.0151767\ttotal: 1.7s\tremaining: 0us\n",
      "0:\tlearn: 20.8555350\ttotal: 103ms\tremaining: 1.95s\n",
      "19:\tlearn: 20.8537642\ttotal: 1.8s\tremaining: 0us\n",
      "0:\tlearn: 20.8693519\ttotal: 40.5ms\tremaining: 770ms\n",
      "19:\tlearn: 20.8676974\ttotal: 1.72s\tremaining: 0us\n",
      "0:\tlearn: 21.0151937\ttotal: 116ms\tremaining: 2.2s\n",
      "19:\tlearn: 21.0140274\ttotal: 2.31s\tremaining: 0us\n",
      "0:\tlearn: 20.8510121\ttotal: 256ms\tremaining: 4.86s\n",
      "19:\tlearn: 20.8036319\ttotal: 2.56s\tremaining: 0us\n",
      "0:\tlearn: 20.8685748\ttotal: 44.5ms\tremaining: 846ms\n",
      "19:\tlearn: 20.8117651\ttotal: 1.72s\tremaining: 0us\n",
      "0:\tlearn: 21.0101490\ttotal: 86.6ms\tremaining: 1.64s\n",
      "19:\tlearn: 20.9556968\ttotal: 1.72s\tremaining: 0us\n",
      "0:\tlearn: 20.9136050\ttotal: 158ms\tremaining: 3.01s\n",
      "19:\tlearn: 20.9134661\ttotal: 2.65s\tremaining: 0us\n",
      "0:\tlearn: 20.9136050\ttotal: 283ms\tremaining: 5.37s\n",
      "19:\tlearn: 20.9134661\ttotal: 3.95s\tremaining: 0us\n"
     ]
    },
    {
     "data": {
      "text/plain": [
       "<catboost.core.CatBoostRegressor at 0x243f65a0190>"
      ]
     },
     "execution_count": 460,
     "metadata": {},
     "output_type": "execute_result"
    }
   ],
   "source": [
    "# Parameter grid to pass in GridSearchCV\n",
    "param_grid = { 'learning_rate': [0.001,0.01,0.5], }\n",
    "\n",
    "# Defining the catboost regressor model\n",
    "catboost_tuned = CatBoostRegressor(iterations=20,cat_features= cat_features,eval_metric=\"RMSE\",verbose=20)\n",
    "# Calling GridSearchCV\n",
    "grid_cv = GridSearchCV(estimator=catboost_tuned, param_grid=param_grid, cv=3)\n",
    "\n",
    "#Fitting parameters in RandomizedSearchCV\n",
    "grid_cv=grid_cv.fit(X_train,y_train)\n",
    "# Set the clf to the best combination of parameters and fit the tuned model\n",
    "catboost_tuned=grid_cv.best_estimator_\n",
    "catboost_tuned.fit(X_train,y_train)"
   ]
  },
  {
   "cell_type": "code",
   "execution_count": 461,
   "id": "143455bd",
   "metadata": {},
   "outputs": [
    {
     "data": {
      "text/plain": [
       "<catboost.core.CatBoostRegressor at 0x243f65a0190>"
      ]
     },
     "execution_count": 461,
     "metadata": {},
     "output_type": "execute_result"
    }
   ],
   "source": [
    "## display the best estimators\n",
    "grid_cv.best_estimator_"
   ]
  },
  {
   "cell_type": "code",
   "execution_count": 462,
   "id": "975197fe",
   "metadata": {},
   "outputs": [],
   "source": [
    "## Check the performamce for each model in the training data of the imbalanced data \n",
    "cat_train_perf_tuned = model_performance_regression_sklearn(catboost_tuned,X_train,y_train)\n",
    "## Check the performamce for each model in the imbalanced validation data\n",
    "cat_val_perf_tuned= model_performance_regression_sklearn(catboost_tuned,X_val,y_val)"
   ]
  },
  {
   "cell_type": "code",
   "execution_count": 463,
   "id": "bd77de37",
   "metadata": {},
   "outputs": [],
   "source": [
    "cat_perf_tuned = pd.concat([cat_train_perf_tuned.T,cat_val_perf_tuned.T],axis=1)\n",
    "cat_perf_tuned.columns =[\"Training\",\"Validation\"]"
   ]
  },
  {
   "cell_type": "code",
   "execution_count": 464,
   "id": "a27848a5",
   "metadata": {},
   "outputs": [
    {
     "name": "stdout",
     "output_type": "stream",
     "text": [
      "CATBoost Peformance measures on the original data\n"
     ]
    },
    {
     "data": {
      "text/html": [
       "<div>\n",
       "<style scoped>\n",
       "    .dataframe tbody tr th:only-of-type {\n",
       "        vertical-align: middle;\n",
       "    }\n",
       "\n",
       "    .dataframe tbody tr th {\n",
       "        vertical-align: top;\n",
       "    }\n",
       "\n",
       "    .dataframe thead th {\n",
       "        text-align: right;\n",
       "    }\n",
       "</style>\n",
       "<table border=\"1\" class=\"dataframe\">\n",
       "  <thead>\n",
       "    <tr style=\"text-align: right;\">\n",
       "      <th></th>\n",
       "      <th>Training</th>\n",
       "      <th>Validation</th>\n",
       "    </tr>\n",
       "  </thead>\n",
       "  <tbody>\n",
       "    <tr>\n",
       "      <th>Root Mean Squared error</th>\n",
       "      <td>20.914</td>\n",
       "      <td>21.007</td>\n",
       "    </tr>\n",
       "    <tr>\n",
       "      <th>Mean Squared error</th>\n",
       "      <td>437.375</td>\n",
       "      <td>441.311</td>\n",
       "    </tr>\n",
       "    <tr>\n",
       "      <th>Mean Absolute error</th>\n",
       "      <td>15.626</td>\n",
       "      <td>15.525</td>\n",
       "    </tr>\n",
       "  </tbody>\n",
       "</table>\n",
       "</div>"
      ],
      "text/plain": [
       "                         Training  Validation\n",
       "Root Mean Squared error    20.914      21.007\n",
       "Mean Squared error        437.375     441.311\n",
       "Mean Absolute error        15.626      15.525"
      ]
     },
     "execution_count": 464,
     "metadata": {},
     "output_type": "execute_result"
    }
   ],
   "source": [
    "print(\"CATBoost Peformance measures on the original data\")\n",
    "cat_perf_tuned"
   ]
  },
  {
   "cell_type": "markdown",
   "id": "16058d28",
   "metadata": {},
   "source": [
    "##  Feature importances"
   ]
  },
  {
   "cell_type": "code",
   "execution_count": 465,
   "id": "85f6e8a3",
   "metadata": {},
   "outputs": [
    {
     "data": {
      "image/png": "[encoded data removed]",
      "text/plain": [
       "<Figure size 1200x1200 with 1 Axes>"
      ]
     },
     "metadata": {},
     "output_type": "display_data"
    }
   ],
   "source": [
    " ## Code to check the feature importance on the best model\n",
    "feature_names = features\n",
    "importances =catboost_tuned.feature_importances_   \n",
    "indices = np.argsort(importances)\n",
    "plt.figure(figsize=(12, 12))\n",
    "plt.title(\"Feature Importances\")\n",
    "plt.barh(range(len(indices)), importances[indices], color=\"blue\", align=\"center\")\n",
    "plt.yticks(range(len(indices)), [feature_names[i] for i in indices])\n",
    "plt.xlabel(\"Relative Importance\")\n",
    "plt.show()"
   ]
  },
  {
   "cell_type": "code",
   "execution_count": 466,
   "id": "f034d856",
   "metadata": {},
   "outputs": [
    {
     "data": {
      "text/html": [
       "<div>\n",
       "<style scoped>\n",
       "    .dataframe tbody tr th:only-of-type {\n",
       "        vertical-align: middle;\n",
       "    }\n",
       "\n",
       "    .dataframe tbody tr th {\n",
       "        vertical-align: top;\n",
       "    }\n",
       "\n",
       "    .dataframe thead th {\n",
       "        text-align: right;\n",
       "    }\n",
       "</style>\n",
       "<table border=\"1\" class=\"dataframe\">\n",
       "  <thead>\n",
       "    <tr style=\"text-align: right;\">\n",
       "      <th></th>\n",
       "      <th>ID</th>\n",
       "      <th>DATOP</th>\n",
       "      <th>FLTID</th>\n",
       "      <th>DEPSTN</th>\n",
       "      <th>ARRSTN</th>\n",
       "      <th>STATUS</th>\n",
       "      <th>AC</th>\n",
       "      <th>target</th>\n",
       "    </tr>\n",
       "  </thead>\n",
       "  <tbody>\n",
       "    <tr>\n",
       "      <th>0</th>\n",
       "      <td>test_id_0</td>\n",
       "      <td>2016-05-04</td>\n",
       "      <td>TU 0700</td>\n",
       "      <td>DJE</td>\n",
       "      <td>TUN</td>\n",
       "      <td>ATA</td>\n",
       "      <td>TU 32AIMF</td>\n",
       "      <td>48.623</td>\n",
       "    </tr>\n",
       "    <tr>\n",
       "      <th>1</th>\n",
       "      <td>test_id_1</td>\n",
       "      <td>2016-05-05</td>\n",
       "      <td>TU 0395</td>\n",
       "      <td>TUN</td>\n",
       "      <td>BKO</td>\n",
       "      <td>ATA</td>\n",
       "      <td>TU 320IMW</td>\n",
       "      <td>48.624</td>\n",
       "    </tr>\n",
       "    <tr>\n",
       "      <th>2</th>\n",
       "      <td>test_id_2</td>\n",
       "      <td>2016-05-06</td>\n",
       "      <td>TU 0745</td>\n",
       "      <td>FRA</td>\n",
       "      <td>TUN</td>\n",
       "      <td>ATA</td>\n",
       "      <td>TU 32AIMC</td>\n",
       "      <td>48.632</td>\n",
       "    </tr>\n",
       "    <tr>\n",
       "      <th>3</th>\n",
       "      <td>test_id_3</td>\n",
       "      <td>2016-05-11</td>\n",
       "      <td>TU 0848</td>\n",
       "      <td>BEY</td>\n",
       "      <td>TUN</td>\n",
       "      <td>ATA</td>\n",
       "      <td>TU 31BIMO</td>\n",
       "      <td>48.623</td>\n",
       "    </tr>\n",
       "    <tr>\n",
       "      <th>4</th>\n",
       "      <td>test_id_4</td>\n",
       "      <td>2016-05-11</td>\n",
       "      <td>TU 0635</td>\n",
       "      <td>ORY</td>\n",
       "      <td>MIR</td>\n",
       "      <td>ATA</td>\n",
       "      <td>TU 736IOQ</td>\n",
       "      <td>48.623</td>\n",
       "    </tr>\n",
       "  </tbody>\n",
       "</table>\n",
       "</div>"
      ],
      "text/plain": [
       "          ID       DATOP     FLTID DEPSTN ARRSTN STATUS         AC  target\n",
       "0  test_id_0  2016-05-04  TU 0700     DJE    TUN    ATA  TU 32AIMF  48.623\n",
       "1  test_id_1  2016-05-05  TU 0395     TUN    BKO    ATA  TU 320IMW  48.624\n",
       "2  test_id_2  2016-05-06  TU 0745     FRA    TUN    ATA  TU 32AIMC  48.632\n",
       "3  test_id_3  2016-05-11  TU 0848     BEY    TUN    ATA  TU 31BIMO  48.623\n",
       "4  test_id_4  2016-05-11  TU 0635     ORY    MIR    ATA  TU 736IOQ  48.623"
      ]
     },
     "execution_count": 466,
     "metadata": {},
     "output_type": "execute_result"
    }
   ],
   "source": [
    "test_data.head()"
   ]
  },
  {
   "cell_type": "code",
   "execution_count": 467,
   "id": "5e047d84",
   "metadata": {},
   "outputs": [],
   "source": [
    "# Code   to predict  the target  variable using the best model on the  testing dataset\n",
    "test_data[\"target\"] = catboost_tuned.predict(X_test)"
   ]
  },
  {
   "cell_type": "code",
   "execution_count": 468,
   "id": "54903ff7",
   "metadata": {
    "scrolled": false
   },
   "outputs": [
    {
     "data": {
      "text/html": [
       "<div>\n",
       "<style scoped>\n",
       "    .dataframe tbody tr th:only-of-type {\n",
       "        vertical-align: middle;\n",
       "    }\n",
       "\n",
       "    .dataframe tbody tr th {\n",
       "        vertical-align: top;\n",
       "    }\n",
       "\n",
       "    .dataframe thead th {\n",
       "        text-align: right;\n",
       "    }\n",
       "</style>\n",
       "<table border=\"1\" class=\"dataframe\">\n",
       "  <thead>\n",
       "    <tr style=\"text-align: right;\">\n",
       "      <th></th>\n",
       "      <th>ID</th>\n",
       "      <th>DATOP</th>\n",
       "      <th>FLTID</th>\n",
       "      <th>DEPSTN</th>\n",
       "      <th>ARRSTN</th>\n",
       "      <th>STATUS</th>\n",
       "      <th>AC</th>\n",
       "      <th>target</th>\n",
       "    </tr>\n",
       "  </thead>\n",
       "  <tbody>\n",
       "    <tr>\n",
       "      <th>0</th>\n",
       "      <td>test_id_0</td>\n",
       "      <td>2016-05-04</td>\n",
       "      <td>TU 0700</td>\n",
       "      <td>DJE</td>\n",
       "      <td>TUN</td>\n",
       "      <td>ATA</td>\n",
       "      <td>TU 32AIMF</td>\n",
       "      <td>16.079</td>\n",
       "    </tr>\n",
       "    <tr>\n",
       "      <th>1</th>\n",
       "      <td>test_id_1</td>\n",
       "      <td>2016-05-05</td>\n",
       "      <td>TU 0395</td>\n",
       "      <td>TUN</td>\n",
       "      <td>BKO</td>\n",
       "      <td>ATA</td>\n",
       "      <td>TU 320IMW</td>\n",
       "      <td>16.080</td>\n",
       "    </tr>\n",
       "    <tr>\n",
       "      <th>2</th>\n",
       "      <td>test_id_2</td>\n",
       "      <td>2016-05-06</td>\n",
       "      <td>TU 0745</td>\n",
       "      <td>FRA</td>\n",
       "      <td>TUN</td>\n",
       "      <td>ATA</td>\n",
       "      <td>TU 32AIMC</td>\n",
       "      <td>16.079</td>\n",
       "    </tr>\n",
       "    <tr>\n",
       "      <th>3</th>\n",
       "      <td>test_id_3</td>\n",
       "      <td>2016-05-11</td>\n",
       "      <td>TU 0848</td>\n",
       "      <td>BEY</td>\n",
       "      <td>TUN</td>\n",
       "      <td>ATA</td>\n",
       "      <td>TU 31BIMO</td>\n",
       "      <td>16.079</td>\n",
       "    </tr>\n",
       "    <tr>\n",
       "      <th>4</th>\n",
       "      <td>test_id_4</td>\n",
       "      <td>2016-05-11</td>\n",
       "      <td>TU 0635</td>\n",
       "      <td>ORY</td>\n",
       "      <td>MIR</td>\n",
       "      <td>ATA</td>\n",
       "      <td>TU 736IOQ</td>\n",
       "      <td>16.079</td>\n",
       "    </tr>\n",
       "  </tbody>\n",
       "</table>\n",
       "</div>"
      ],
      "text/plain": [
       "          ID       DATOP     FLTID DEPSTN ARRSTN STATUS         AC  target\n",
       "0  test_id_0  2016-05-04  TU 0700     DJE    TUN    ATA  TU 32AIMF  16.079\n",
       "1  test_id_1  2016-05-05  TU 0395     TUN    BKO    ATA  TU 320IMW  16.080\n",
       "2  test_id_2  2016-05-06  TU 0745     FRA    TUN    ATA  TU 32AIMC  16.079\n",
       "3  test_id_3  2016-05-11  TU 0848     BEY    TUN    ATA  TU 31BIMO  16.079\n",
       "4  test_id_4  2016-05-11  TU 0635     ORY    MIR    ATA  TU 736IOQ  16.079"
      ]
     },
     "execution_count": 468,
     "metadata": {},
     "output_type": "execute_result"
    }
   ],
   "source": [
    "test_data.head()"
   ]
  },
  {
   "cell_type": "code",
   "execution_count": 469,
   "id": "8278ddda",
   "metadata": {},
   "outputs": [],
   "source": [
    "data_df =pd.DataFrame({\"ID\":test_data[\"ID\"],\"target\":test_data[\"target\"]})"
   ]
  },
  {
   "cell_type": "code",
   "execution_count": 470,
   "id": "4791b014",
   "metadata": {},
   "outputs": [
    {
     "data": {
      "text/html": [
       "<div>\n",
       "<style scoped>\n",
       "    .dataframe tbody tr th:only-of-type {\n",
       "        vertical-align: middle;\n",
       "    }\n",
       "\n",
       "    .dataframe tbody tr th {\n",
       "        vertical-align: top;\n",
       "    }\n",
       "\n",
       "    .dataframe thead th {\n",
       "        text-align: right;\n",
       "    }\n",
       "</style>\n",
       "<table border=\"1\" class=\"dataframe\">\n",
       "  <thead>\n",
       "    <tr style=\"text-align: right;\">\n",
       "      <th></th>\n",
       "      <th>ID</th>\n",
       "      <th>target</th>\n",
       "    </tr>\n",
       "  </thead>\n",
       "  <tbody>\n",
       "    <tr>\n",
       "      <th>0</th>\n",
       "      <td>test_id_0</td>\n",
       "      <td>16.079</td>\n",
       "    </tr>\n",
       "    <tr>\n",
       "      <th>1</th>\n",
       "      <td>test_id_1</td>\n",
       "      <td>16.080</td>\n",
       "    </tr>\n",
       "    <tr>\n",
       "      <th>2</th>\n",
       "      <td>test_id_2</td>\n",
       "      <td>16.079</td>\n",
       "    </tr>\n",
       "    <tr>\n",
       "      <th>3</th>\n",
       "      <td>test_id_3</td>\n",
       "      <td>16.079</td>\n",
       "    </tr>\n",
       "    <tr>\n",
       "      <th>4</th>\n",
       "      <td>test_id_4</td>\n",
       "      <td>16.079</td>\n",
       "    </tr>\n",
       "  </tbody>\n",
       "</table>\n",
       "</div>"
      ],
      "text/plain": [
       "          ID  target\n",
       "0  test_id_0  16.079\n",
       "1  test_id_1  16.080\n",
       "2  test_id_2  16.079\n",
       "3  test_id_3  16.079\n",
       "4  test_id_4  16.079"
      ]
     },
     "execution_count": 470,
     "metadata": {},
     "output_type": "execute_result"
    }
   ],
   "source": [
    "data_df.head()"
   ]
  },
  {
   "cell_type": "code",
   "execution_count": 471,
   "id": "a6bc96b2",
   "metadata": {},
   "outputs": [
    {
     "data": {
      "text/html": [
       "<div>\n",
       "<style scoped>\n",
       "    .dataframe tbody tr th:only-of-type {\n",
       "        vertical-align: middle;\n",
       "    }\n",
       "\n",
       "    .dataframe tbody tr th {\n",
       "        vertical-align: top;\n",
       "    }\n",
       "\n",
       "    .dataframe thead th {\n",
       "        text-align: right;\n",
       "    }\n",
       "</style>\n",
       "<table border=\"1\" class=\"dataframe\">\n",
       "  <thead>\n",
       "    <tr style=\"text-align: right;\">\n",
       "      <th></th>\n",
       "      <th>ID</th>\n",
       "      <th>target</th>\n",
       "    </tr>\n",
       "  </thead>\n",
       "  <tbody>\n",
       "    <tr>\n",
       "      <th>9328</th>\n",
       "      <td>test_id_9328</td>\n",
       "      <td>16.080</td>\n",
       "    </tr>\n",
       "    <tr>\n",
       "      <th>9329</th>\n",
       "      <td>test_id_9329</td>\n",
       "      <td>16.077</td>\n",
       "    </tr>\n",
       "    <tr>\n",
       "      <th>9330</th>\n",
       "      <td>test_id_9330</td>\n",
       "      <td>16.078</td>\n",
       "    </tr>\n",
       "    <tr>\n",
       "      <th>9331</th>\n",
       "      <td>test_id_9331</td>\n",
       "      <td>16.082</td>\n",
       "    </tr>\n",
       "    <tr>\n",
       "      <th>9332</th>\n",
       "      <td>test_id_9332</td>\n",
       "      <td>16.079</td>\n",
       "    </tr>\n",
       "  </tbody>\n",
       "</table>\n",
       "</div>"
      ],
      "text/plain": [
       "                ID  target\n",
       "9328  test_id_9328  16.080\n",
       "9329  test_id_9329  16.077\n",
       "9330  test_id_9330  16.078\n",
       "9331  test_id_9331  16.082\n",
       "9332  test_id_9332  16.079"
      ]
     },
     "execution_count": 471,
     "metadata": {},
     "output_type": "execute_result"
    }
   ],
   "source": [
    "data_df.tail()"
   ]
  },
  {
   "cell_type": "code",
   "execution_count": 393,
   "id": "615e3cad",
   "metadata": {},
   "outputs": [],
   "source": [
    " # code to save the predicted dataset as a csv file\n",
    "data_df.to_csv(\"Submission_file(flight_delay5).csv\",index=False)   # code to save the predicted values as a csv file"
   ]
  },
  {
   "cell_type": "code",
   "execution_count": 405,
   "id": "3d700495",
   "metadata": {},
   "outputs": [],
   "source": [
    "df = pd.read_csv(\"Submission_file(flight_delay5).csv\")"
   ]
  },
  {
   "cell_type": "code",
   "execution_count": 406,
   "id": "96d4041a",
   "metadata": {},
   "outputs": [
    {
     "data": {
      "text/html": [
       "<div>\n",
       "<style scoped>\n",
       "    .dataframe tbody tr th:only-of-type {\n",
       "        vertical-align: middle;\n",
       "    }\n",
       "\n",
       "    .dataframe tbody tr th {\n",
       "        vertical-align: top;\n",
       "    }\n",
       "\n",
       "    .dataframe thead th {\n",
       "        text-align: right;\n",
       "    }\n",
       "</style>\n",
       "<table border=\"1\" class=\"dataframe\">\n",
       "  <thead>\n",
       "    <tr style=\"text-align: right;\">\n",
       "      <th></th>\n",
       "      <th>ID</th>\n",
       "      <th>target</th>\n",
       "    </tr>\n",
       "  </thead>\n",
       "  <tbody>\n",
       "    <tr>\n",
       "      <th>0</th>\n",
       "      <td>test_id_0</td>\n",
       "      <td>48.623</td>\n",
       "    </tr>\n",
       "    <tr>\n",
       "      <th>1</th>\n",
       "      <td>test_id_1</td>\n",
       "      <td>48.624</td>\n",
       "    </tr>\n",
       "    <tr>\n",
       "      <th>2</th>\n",
       "      <td>test_id_2</td>\n",
       "      <td>48.632</td>\n",
       "    </tr>\n",
       "    <tr>\n",
       "      <th>3</th>\n",
       "      <td>test_id_3</td>\n",
       "      <td>48.623</td>\n",
       "    </tr>\n",
       "    <tr>\n",
       "      <th>4</th>\n",
       "      <td>test_id_4</td>\n",
       "      <td>48.623</td>\n",
       "    </tr>\n",
       "  </tbody>\n",
       "</table>\n",
       "</div>"
      ],
      "text/plain": [
       "          ID  target\n",
       "0  test_id_0  48.623\n",
       "1  test_id_1  48.624\n",
       "2  test_id_2  48.632\n",
       "3  test_id_3  48.623\n",
       "4  test_id_4  48.623"
      ]
     },
     "execution_count": 406,
     "metadata": {},
     "output_type": "execute_result"
    }
   ],
   "source": [
    "df.head()"
   ]
  }
 ],
 "metadata": {
  "kernelspec": {
   "display_name": "Python 3 (ipykernel)",
   "language": "python",
   "name": "python3"
  },
  "language_info": {
   "codemirror_mode": {
    "name": "ipython",
    "version": 3
   },
   "file_extension": ".py",
   "mimetype": "text/x-python",
   "name": "python",
   "nbconvert_exporter": "python",
   "pygments_lexer": "ipython3",
   "version": "3.11.5"
  }
 },
 "nbformat": 4,
 "nbformat_minor": 5
}
